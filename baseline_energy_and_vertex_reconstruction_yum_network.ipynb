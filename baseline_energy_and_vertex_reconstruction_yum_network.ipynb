{
 "cells": [
  {
   "cell_type": "code",
   "execution_count": 1,
   "metadata": {},
   "outputs": [],
   "source": [
    "import numpy as np\n",
    "import pandas as pd\n",
    "from mpl_toolkits.mplot3d import Axes3D\n",
    "import matplotlib.pyplot as plt\n",
    "import tables\n",
    "from random import shuffle\n",
    "from IPython.display import clear_output\n",
    "from sklearn import metrics\n",
    "from tqdm import tqdm\n",
    "import time\n",
    "import seaborn as sns\n",
    "%matplotlib inline"
   ]
  },
  {
   "cell_type": "code",
   "execution_count": null,
   "metadata": {},
   "outputs": [],
   "source": []
  },
  {
   "cell_type": "code",
   "execution_count": 2,
   "metadata": {},
   "outputs": [],
   "source": [
    "import os\n",
    "USE_GPU = True\n",
    "os.environ['CUDA_VISIBLE_DEVICES'] = '3' if USE_GPU else ''\n",
    "EPS = 1e-15"
   ]
  },
  {
   "cell_type": "code",
   "execution_count": 3,
   "metadata": {},
   "outputs": [],
   "source": [
    "lpmt_hits = pd.read_hdf('./juno/phase_3/lpmt_hits.h5', mode='r') \n",
    "spmt_hits = pd.read_hdf('./juno/phase_3/spmt_hits.h5', mode='r')\n",
    "pmts_pos = pd.read_csv('./juno/pmts_pos.csv') \n",
    "true_info = pd.read_csv('./juno/phase_3/true_info.csv')"
   ]
  },
  {
   "cell_type": "code",
   "execution_count": 1004,
   "metadata": {},
   "outputs": [],
   "source": [
    "lpmt_hits = pd.read_hdf('./juno/lpmt_hits.h5', mode='r') \n",
    "spmt_hits = pd.read_hdf('./juno/spmt_hits.h5', mode='r')\n",
    "pmts_pos = pd.read_csv('./juno/pmts_pos.csv') \n",
    "true_info = pd.read_csv('./juno//true_info.csv')"
   ]
  },
  {
   "cell_type": "code",
   "execution_count": 4,
   "metadata": {},
   "outputs": [],
   "source": [
    "test_l_hits = pd.read_hdf('./juno/phase_3/test_l_hits.h5') \n",
    "test_s_hits = pd.read_hdf('./juno/phase_3/test_s_hits.h5')"
   ]
  },
  {
   "cell_type": "code",
   "execution_count": 1005,
   "metadata": {},
   "outputs": [],
   "source": [
    "test_l_hits = pd.read_hdf('./juno/test_l_hits.h5') \n",
    "test_s_hits = pd.read_hdf('./juno/test_s_hits.h5')"
   ]
  },
  {
   "cell_type": "code",
   "execution_count": 5,
   "metadata": {},
   "outputs": [],
   "source": [
    "train = pd.read_hdf('./juno/train_data_ph1.h5', mode='r') \n",
    "# validation = pd.read_hdf('../data/phase1/validation_data_ph1.h5', mode='r') \n",
    "test = pd.read_hdf('./juno/test_data_ph1.h5', mode='r') \n",
    "# true_info = pd.read_hdf('./juno/true_data_ph1.h5', mode='r') "
   ]
  },
  {
   "cell_type": "raw",
   "metadata": {},
   "source": [
    "# Concatenating subsets into train, test and \"target\" datasets\n",
    "\n",
    "lpmt_hits['is_large'] = True\n",
    "spmt_hits['is_large'] = False\n",
    "train_pmt_hits = pd.concat([lpmt_hits, spmt_hits], axis=0)\n",
    "train_merged = train_pmt_hits.merge(pmts_pos, left_on='pmtID', right_on='pmt_id').drop('pmt_id', axis=1)\n",
    "train = pd.merge(train_merged, true_info, left_on='event', right_on='evtID').drop('evtID', axis=1)\n",
    "train.to_hdf('./data/juno/train_data_ph1.h5', key='train', mode='w')\n",
    "\n",
    "test_l_hits['is_large'] = True\n",
    "test_s_hits['is_large'] = False\n",
    "test_pmt_hits = pd.concat([test_l_hits, test_s_hits], axis=0)\n",
    "test_merged = test_pmt_hits.merge(pmts_pos, left_on='pmtID', right_on='pmt_id').drop('pmt_id', axis=1)\n",
    "test = test_merged\n",
    "test.to_hdf('./data/juno/test_data_ph1.h5', key='test', mode='w')\n",
    "\n",
    "true_info.drop(['x','y','z'], axis=1, inplace=True)\n",
    "true_info.to_hdf('./data/juno/true_data_ph1.h5', key='true', mode='w')"
   ]
  },
  {
   "cell_type": "code",
   "execution_count": 6,
   "metadata": {
    "scrolled": true
   },
   "outputs": [
    {
     "data": {
      "text/html": [
       "<div>\n",
       "<style scoped>\n",
       "    .dataframe tbody tr th:only-of-type {\n",
       "        vertical-align: middle;\n",
       "    }\n",
       "\n",
       "    .dataframe tbody tr th {\n",
       "        vertical-align: top;\n",
       "    }\n",
       "\n",
       "    .dataframe thead th {\n",
       "        text-align: right;\n",
       "    }\n",
       "</style>\n",
       "<table border=\"1\" class=\"dataframe\">\n",
       "  <thead>\n",
       "    <tr style=\"text-align: right;\">\n",
       "      <th></th>\n",
       "      <th>event</th>\n",
       "      <th>hitTime</th>\n",
       "      <th>pmtID</th>\n",
       "      <th>is_large</th>\n",
       "      <th>pmt_x</th>\n",
       "      <th>pmt_y</th>\n",
       "      <th>pmt_z</th>\n",
       "      <th>E</th>\n",
       "      <th>R</th>\n",
       "      <th>x</th>\n",
       "      <th>y</th>\n",
       "      <th>z</th>\n",
       "    </tr>\n",
       "  </thead>\n",
       "  <tbody>\n",
       "    <tr>\n",
       "      <th>0</th>\n",
       "      <td>0</td>\n",
       "      <td>249.992615</td>\n",
       "      <td>14175</td>\n",
       "      <td>True</td>\n",
       "      <td>-5411.832</td>\n",
       "      <td>16838.455</td>\n",
       "      <td>-7471.1797</td>\n",
       "      <td>4.747791</td>\n",
       "      <td>14610.378</td>\n",
       "      <td>8290.779</td>\n",
       "      <td>11995.618</td>\n",
       "      <td>911.74286</td>\n",
       "    </tr>\n",
       "    <tr>\n",
       "      <th>1</th>\n",
       "      <td>0</td>\n",
       "      <td>92.820419</td>\n",
       "      <td>14175</td>\n",
       "      <td>True</td>\n",
       "      <td>-5411.832</td>\n",
       "      <td>16838.455</td>\n",
       "      <td>-7471.1797</td>\n",
       "      <td>4.747791</td>\n",
       "      <td>14610.378</td>\n",
       "      <td>8290.779</td>\n",
       "      <td>11995.618</td>\n",
       "      <td>911.74286</td>\n",
       "    </tr>\n",
       "    <tr>\n",
       "      <th>2</th>\n",
       "      <td>0</td>\n",
       "      <td>40.010311</td>\n",
       "      <td>17319</td>\n",
       "      <td>True</td>\n",
       "      <td>12080.419</td>\n",
       "      <td>14903.949</td>\n",
       "      <td>-758.8111</td>\n",
       "      <td>4.747791</td>\n",
       "      <td>14610.378</td>\n",
       "      <td>8290.779</td>\n",
       "      <td>11995.618</td>\n",
       "      <td>911.74286</td>\n",
       "    </tr>\n",
       "    <tr>\n",
       "      <th>3</th>\n",
       "      <td>0</td>\n",
       "      <td>218.473663</td>\n",
       "      <td>17319</td>\n",
       "      <td>True</td>\n",
       "      <td>12080.419</td>\n",
       "      <td>14903.949</td>\n",
       "      <td>-758.8111</td>\n",
       "      <td>4.747791</td>\n",
       "      <td>14610.378</td>\n",
       "      <td>8290.779</td>\n",
       "      <td>11995.618</td>\n",
       "      <td>911.74286</td>\n",
       "    </tr>\n",
       "    <tr>\n",
       "      <th>4</th>\n",
       "      <td>0</td>\n",
       "      <td>91.932716</td>\n",
       "      <td>17319</td>\n",
       "      <td>True</td>\n",
       "      <td>12080.419</td>\n",
       "      <td>14903.949</td>\n",
       "      <td>-758.8111</td>\n",
       "      <td>4.747791</td>\n",
       "      <td>14610.378</td>\n",
       "      <td>8290.779</td>\n",
       "      <td>11995.618</td>\n",
       "      <td>911.74286</td>\n",
       "    </tr>\n",
       "  </tbody>\n",
       "</table>\n",
       "</div>"
      ],
      "text/plain": [
       "   event     hitTime  pmtID  is_large      pmt_x      pmt_y      pmt_z  \\\n",
       "0      0  249.992615  14175      True  -5411.832  16838.455 -7471.1797   \n",
       "1      0   92.820419  14175      True  -5411.832  16838.455 -7471.1797   \n",
       "2      0   40.010311  17319      True  12080.419  14903.949  -758.8111   \n",
       "3      0  218.473663  17319      True  12080.419  14903.949  -758.8111   \n",
       "4      0   91.932716  17319      True  12080.419  14903.949  -758.8111   \n",
       "\n",
       "          E          R         x          y          z  \n",
       "0  4.747791  14610.378  8290.779  11995.618  911.74286  \n",
       "1  4.747791  14610.378  8290.779  11995.618  911.74286  \n",
       "2  4.747791  14610.378  8290.779  11995.618  911.74286  \n",
       "3  4.747791  14610.378  8290.779  11995.618  911.74286  \n",
       "4  4.747791  14610.378  8290.779  11995.618  911.74286  "
      ]
     },
     "execution_count": 6,
     "metadata": {},
     "output_type": "execute_result"
    }
   ],
   "source": [
    "train.head()"
   ]
  },
  {
   "cell_type": "code",
   "execution_count": 7,
   "metadata": {},
   "outputs": [
    {
     "data": {
      "text/html": [
       "<div>\n",
       "<style scoped>\n",
       "    .dataframe tbody tr th:only-of-type {\n",
       "        vertical-align: middle;\n",
       "    }\n",
       "\n",
       "    .dataframe tbody tr th {\n",
       "        vertical-align: top;\n",
       "    }\n",
       "\n",
       "    .dataframe thead th {\n",
       "        text-align: right;\n",
       "    }\n",
       "</style>\n",
       "<table border=\"1\" class=\"dataframe\">\n",
       "  <thead>\n",
       "    <tr style=\"text-align: right;\">\n",
       "      <th></th>\n",
       "      <th>event</th>\n",
       "      <th>hitTime</th>\n",
       "      <th>pmtID</th>\n",
       "      <th>is_large</th>\n",
       "      <th>pmt_x</th>\n",
       "      <th>pmt_y</th>\n",
       "      <th>pmt_z</th>\n",
       "    </tr>\n",
       "  </thead>\n",
       "  <tbody>\n",
       "    <tr>\n",
       "      <th>0</th>\n",
       "      <td>16000</td>\n",
       "      <td>130.768448</td>\n",
       "      <td>3289</td>\n",
       "      <td>True</td>\n",
       "      <td>2134.6404</td>\n",
       "      <td>15017.766</td>\n",
       "      <td>11770.728</td>\n",
       "    </tr>\n",
       "    <tr>\n",
       "      <th>1</th>\n",
       "      <td>16002</td>\n",
       "      <td>63.246658</td>\n",
       "      <td>3289</td>\n",
       "      <td>True</td>\n",
       "      <td>2134.6404</td>\n",
       "      <td>15017.766</td>\n",
       "      <td>11770.728</td>\n",
       "    </tr>\n",
       "    <tr>\n",
       "      <th>2</th>\n",
       "      <td>16007</td>\n",
       "      <td>85.495117</td>\n",
       "      <td>3289</td>\n",
       "      <td>True</td>\n",
       "      <td>2134.6404</td>\n",
       "      <td>15017.766</td>\n",
       "      <td>11770.728</td>\n",
       "    </tr>\n",
       "    <tr>\n",
       "      <th>3</th>\n",
       "      <td>16009</td>\n",
       "      <td>126.604965</td>\n",
       "      <td>3289</td>\n",
       "      <td>True</td>\n",
       "      <td>2134.6404</td>\n",
       "      <td>15017.766</td>\n",
       "      <td>11770.728</td>\n",
       "    </tr>\n",
       "    <tr>\n",
       "      <th>4</th>\n",
       "      <td>16015</td>\n",
       "      <td>67.194359</td>\n",
       "      <td>3289</td>\n",
       "      <td>True</td>\n",
       "      <td>2134.6404</td>\n",
       "      <td>15017.766</td>\n",
       "      <td>11770.728</td>\n",
       "    </tr>\n",
       "  </tbody>\n",
       "</table>\n",
       "</div>"
      ],
      "text/plain": [
       "   event     hitTime  pmtID  is_large      pmt_x      pmt_y      pmt_z\n",
       "0  16000  130.768448   3289      True  2134.6404  15017.766  11770.728\n",
       "1  16002   63.246658   3289      True  2134.6404  15017.766  11770.728\n",
       "2  16007   85.495117   3289      True  2134.6404  15017.766  11770.728\n",
       "3  16009  126.604965   3289      True  2134.6404  15017.766  11770.728\n",
       "4  16015   67.194359   3289      True  2134.6404  15017.766  11770.728"
      ]
     },
     "execution_count": 7,
     "metadata": {},
     "output_type": "execute_result"
    }
   ],
   "source": [
    "test.head()"
   ]
  },
  {
   "cell_type": "code",
   "execution_count": 8,
   "metadata": {},
   "outputs": [
    {
     "data": {
      "text/html": [
       "<div>\n",
       "<style scoped>\n",
       "    .dataframe tbody tr th:only-of-type {\n",
       "        vertical-align: middle;\n",
       "    }\n",
       "\n",
       "    .dataframe tbody tr th {\n",
       "        vertical-align: top;\n",
       "    }\n",
       "\n",
       "    .dataframe thead th {\n",
       "        text-align: right;\n",
       "    }\n",
       "</style>\n",
       "<table border=\"1\" class=\"dataframe\">\n",
       "  <thead>\n",
       "    <tr style=\"text-align: right;\">\n",
       "      <th></th>\n",
       "      <th>E</th>\n",
       "      <th>R</th>\n",
       "      <th>evtID</th>\n",
       "      <th>x</th>\n",
       "      <th>y</th>\n",
       "      <th>z</th>\n",
       "    </tr>\n",
       "  </thead>\n",
       "  <tbody>\n",
       "    <tr>\n",
       "      <th>0</th>\n",
       "      <td>7.397038</td>\n",
       "      <td>15267.927</td>\n",
       "      <td>26000</td>\n",
       "      <td>13759.8120</td>\n",
       "      <td>-2082.3127</td>\n",
       "      <td>6280.2180</td>\n",
       "    </tr>\n",
       "    <tr>\n",
       "      <th>1</th>\n",
       "      <td>8.934670</td>\n",
       "      <td>17321.850</td>\n",
       "      <td>26001</td>\n",
       "      <td>-11983.3910</td>\n",
       "      <td>12273.5100</td>\n",
       "      <td>2409.5234</td>\n",
       "    </tr>\n",
       "    <tr>\n",
       "      <th>2</th>\n",
       "      <td>5.901982</td>\n",
       "      <td>17258.846</td>\n",
       "      <td>26002</td>\n",
       "      <td>-16006.6580</td>\n",
       "      <td>2820.8100</td>\n",
       "      <td>-5804.9690</td>\n",
       "    </tr>\n",
       "    <tr>\n",
       "      <th>3</th>\n",
       "      <td>6.396549</td>\n",
       "      <td>6628.715</td>\n",
       "      <td>26003</td>\n",
       "      <td>937.7113</td>\n",
       "      <td>2855.7812</td>\n",
       "      <td>5908.0513</td>\n",
       "    </tr>\n",
       "    <tr>\n",
       "      <th>4</th>\n",
       "      <td>9.518383</td>\n",
       "      <td>16806.303</td>\n",
       "      <td>26004</td>\n",
       "      <td>-9749.3150</td>\n",
       "      <td>-3329.8782</td>\n",
       "      <td>13278.3510</td>\n",
       "    </tr>\n",
       "  </tbody>\n",
       "</table>\n",
       "</div>"
      ],
      "text/plain": [
       "          E          R  evtID           x           y           z\n",
       "0  7.397038  15267.927  26000  13759.8120  -2082.3127   6280.2180\n",
       "1  8.934670  17321.850  26001 -11983.3910  12273.5100   2409.5234\n",
       "2  5.901982  17258.846  26002 -16006.6580   2820.8100  -5804.9690\n",
       "3  6.396549   6628.715  26003    937.7113   2855.7812   5908.0513\n",
       "4  9.518383  16806.303  26004  -9749.3150  -3329.8782  13278.3510"
      ]
     },
     "execution_count": 8,
     "metadata": {},
     "output_type": "execute_result"
    }
   ],
   "source": [
    "true_info.head()"
   ]
  },
  {
   "cell_type": "code",
   "execution_count": 9,
   "metadata": {},
   "outputs": [
    {
     "data": {
      "text/html": [
       "<div>\n",
       "<style scoped>\n",
       "    .dataframe tbody tr th:only-of-type {\n",
       "        vertical-align: middle;\n",
       "    }\n",
       "\n",
       "    .dataframe tbody tr th {\n",
       "        vertical-align: top;\n",
       "    }\n",
       "\n",
       "    .dataframe thead th {\n",
       "        text-align: right;\n",
       "    }\n",
       "</style>\n",
       "<table border=\"1\" class=\"dataframe\">\n",
       "  <thead>\n",
       "    <tr style=\"text-align: right;\">\n",
       "      <th></th>\n",
       "      <th>event</th>\n",
       "      <th>hitTime</th>\n",
       "      <th>isDN</th>\n",
       "      <th>pmtID</th>\n",
       "    </tr>\n",
       "  </thead>\n",
       "  <tbody>\n",
       "    <tr>\n",
       "      <th>0</th>\n",
       "      <td>26000</td>\n",
       "      <td>98.512581</td>\n",
       "      <td>False</td>\n",
       "      <td>16182</td>\n",
       "    </tr>\n",
       "    <tr>\n",
       "      <th>1</th>\n",
       "      <td>26000</td>\n",
       "      <td>29.833193</td>\n",
       "      <td>False</td>\n",
       "      <td>4895</td>\n",
       "    </tr>\n",
       "    <tr>\n",
       "      <th>2</th>\n",
       "      <td>26000</td>\n",
       "      <td>44.804276</td>\n",
       "      <td>False</td>\n",
       "      <td>8485</td>\n",
       "    </tr>\n",
       "    <tr>\n",
       "      <th>3</th>\n",
       "      <td>26000</td>\n",
       "      <td>158.137482</td>\n",
       "      <td>False</td>\n",
       "      <td>10898</td>\n",
       "    </tr>\n",
       "    <tr>\n",
       "      <th>4</th>\n",
       "      <td>26000</td>\n",
       "      <td>315.410309</td>\n",
       "      <td>False</td>\n",
       "      <td>16568</td>\n",
       "    </tr>\n",
       "  </tbody>\n",
       "</table>\n",
       "</div>"
      ],
      "text/plain": [
       "   event     hitTime   isDN  pmtID\n",
       "0  26000   98.512581  False  16182\n",
       "1  26000   29.833193  False   4895\n",
       "2  26000   44.804276  False   8485\n",
       "3  26000  158.137482  False  10898\n",
       "4  26000  315.410309  False  16568"
      ]
     },
     "execution_count": 9,
     "metadata": {},
     "output_type": "execute_result"
    }
   ],
   "source": [
    "lpmt_hits.head()"
   ]
  },
  {
   "cell_type": "markdown",
   "metadata": {},
   "source": [
    "### Merging data"
   ]
  },
  {
   "cell_type": "code",
   "execution_count": 1007,
   "metadata": {
    "scrolled": false
   },
   "outputs": [
    {
     "name": "stdout",
     "output_type": "stream",
     "text": [
      "(136785467, 3) (3494869, 3) (140280336, 3)\n",
      "(43049370, 3) (1099104, 3) (44148474, 3)\n",
      "(184428810, 3)\n"
     ]
    }
   ],
   "source": [
    "train_df = pd.concat([lpmt_hits, spmt_hits], axis=0)\n",
    "test_df = pd.concat([test_l_hits, test_s_hits], axis=0)\n",
    "data = pd.concat([train_df, test_df], axis=0)\n",
    "print(lpmt_hits.shape, spmt_hits.shape, train_df.shape)\n",
    "print(test_l_hits.shape, test_s_hits.shape, test_df.shape)\n",
    "print(data.shape)\n",
    "split_idx = train_df.shape[0]"
   ]
  },
  {
   "cell_type": "code",
   "execution_count": 11,
   "metadata": {},
   "outputs": [],
   "source": [
    "split_idx = train_df.shape[0]"
   ]
  },
  {
   "cell_type": "code",
   "execution_count": 12,
   "metadata": {},
   "outputs": [
    {
     "data": {
      "text/plain": [
       "(152816933, 4)"
      ]
     },
     "execution_count": 12,
     "metadata": {},
     "output_type": "execute_result"
    }
   ],
   "source": [
    "data.iloc[:split_idx].shape"
   ]
  },
  {
   "cell_type": "code",
   "execution_count": 13,
   "metadata": {},
   "outputs": [
    {
     "name": "stdout",
     "output_type": "stream",
     "text": [
      "16000\n"
     ]
    }
   ],
   "source": [
    "split_events = true_info.shape[0]\n",
    "print(split_events)"
   ]
  },
  {
   "cell_type": "code",
   "execution_count": 14,
   "metadata": {},
   "outputs": [],
   "source": [
    "first_train_event_num = lpmt_hits.event.min()\n",
    "first_test_event_num = test_l_hits.event.min()"
   ]
  },
  {
   "cell_type": "code",
   "execution_count": 15,
   "metadata": {
    "scrolled": true
   },
   "outputs": [
    {
     "data": {
      "text/plain": [
       "42000"
      ]
     },
     "execution_count": 15,
     "metadata": {},
     "output_type": "execute_result"
    }
   ],
   "source": [
    "first_test_event_num"
   ]
  },
  {
   "cell_type": "markdown",
   "metadata": {},
   "source": [
    "### Baseline"
   ]
  },
  {
   "cell_type": "markdown",
   "metadata": {},
   "source": [
    "we're going to take mean of every real_numbered value"
   ]
  },
  {
   "cell_type": "code",
   "execution_count": 16,
   "metadata": {},
   "outputs": [],
   "source": [
    "base_train = train[['event', 'hitTime', 'pmt_x', 'pmt_y', 'pmt_z']].groupby('event').mean()\n",
    "base_test = test[['event', 'hitTime', 'pmt_x', 'pmt_y', 'pmt_z']].groupby('event').mean()"
   ]
  },
  {
   "cell_type": "code",
   "execution_count": 17,
   "metadata": {},
   "outputs": [
    {
     "data": {
      "text/html": [
       "<div>\n",
       "<style scoped>\n",
       "    .dataframe tbody tr th:only-of-type {\n",
       "        vertical-align: middle;\n",
       "    }\n",
       "\n",
       "    .dataframe tbody tr th {\n",
       "        vertical-align: top;\n",
       "    }\n",
       "\n",
       "    .dataframe thead th {\n",
       "        text-align: right;\n",
       "    }\n",
       "</style>\n",
       "<table border=\"1\" class=\"dataframe\">\n",
       "  <thead>\n",
       "    <tr style=\"text-align: right;\">\n",
       "      <th></th>\n",
       "      <th>hitTime</th>\n",
       "      <th>pmt_x</th>\n",
       "      <th>pmt_y</th>\n",
       "      <th>pmt_z</th>\n",
       "    </tr>\n",
       "    <tr>\n",
       "      <th>event</th>\n",
       "      <th></th>\n",
       "      <th></th>\n",
       "      <th></th>\n",
       "      <th></th>\n",
       "    </tr>\n",
       "  </thead>\n",
       "  <tbody>\n",
       "    <tr>\n",
       "      <th>0</th>\n",
       "      <td>95.142883</td>\n",
       "      <td>6742.747754</td>\n",
       "      <td>9929.261316</td>\n",
       "      <td>767.530051</td>\n",
       "    </tr>\n",
       "    <tr>\n",
       "      <th>1</th>\n",
       "      <td>98.507034</td>\n",
       "      <td>9148.488313</td>\n",
       "      <td>4254.463594</td>\n",
       "      <td>-5668.030986</td>\n",
       "    </tr>\n",
       "    <tr>\n",
       "      <th>2</th>\n",
       "      <td>96.424873</td>\n",
       "      <td>11465.888473</td>\n",
       "      <td>-3298.430170</td>\n",
       "      <td>215.455769</td>\n",
       "    </tr>\n",
       "    <tr>\n",
       "      <th>3</th>\n",
       "      <td>100.268799</td>\n",
       "      <td>-1500.403105</td>\n",
       "      <td>-11539.483607</td>\n",
       "      <td>2423.068899</td>\n",
       "    </tr>\n",
       "    <tr>\n",
       "      <th>4</th>\n",
       "      <td>104.633980</td>\n",
       "      <td>-7100.159824</td>\n",
       "      <td>709.128010</td>\n",
       "      <td>7903.695198</td>\n",
       "    </tr>\n",
       "  </tbody>\n",
       "</table>\n",
       "</div>"
      ],
      "text/plain": [
       "          hitTime         pmt_x         pmt_y        pmt_z\n",
       "event                                                     \n",
       "0       95.142883   6742.747754   9929.261316   767.530051\n",
       "1       98.507034   9148.488313   4254.463594 -5668.030986\n",
       "2       96.424873  11465.888473  -3298.430170   215.455769\n",
       "3      100.268799  -1500.403105 -11539.483607  2423.068899\n",
       "4      104.633980  -7100.159824    709.128010  7903.695198"
      ]
     },
     "execution_count": 17,
     "metadata": {},
     "output_type": "execute_result"
    }
   ],
   "source": [
    "base_train.head()"
   ]
  },
  {
   "cell_type": "code",
   "execution_count": 18,
   "metadata": {},
   "outputs": [
    {
     "data": {
      "text/html": [
       "<div>\n",
       "<style scoped>\n",
       "    .dataframe tbody tr th:only-of-type {\n",
       "        vertical-align: middle;\n",
       "    }\n",
       "\n",
       "    .dataframe tbody tr th {\n",
       "        vertical-align: top;\n",
       "    }\n",
       "\n",
       "    .dataframe thead th {\n",
       "        text-align: right;\n",
       "    }\n",
       "</style>\n",
       "<table border=\"1\" class=\"dataframe\">\n",
       "  <thead>\n",
       "    <tr style=\"text-align: right;\">\n",
       "      <th></th>\n",
       "      <th>hitTime</th>\n",
       "      <th>pmt_x</th>\n",
       "      <th>pmt_y</th>\n",
       "      <th>pmt_z</th>\n",
       "    </tr>\n",
       "    <tr>\n",
       "      <th>event</th>\n",
       "      <th></th>\n",
       "      <th></th>\n",
       "      <th></th>\n",
       "      <th></th>\n",
       "    </tr>\n",
       "  </thead>\n",
       "  <tbody>\n",
       "    <tr>\n",
       "      <th>16000</th>\n",
       "      <td>104.666626</td>\n",
       "      <td>-7187.699821</td>\n",
       "      <td>4022.543151</td>\n",
       "      <td>6771.929508</td>\n",
       "    </tr>\n",
       "    <tr>\n",
       "      <th>16001</th>\n",
       "      <td>93.139519</td>\n",
       "      <td>40.935368</td>\n",
       "      <td>-12232.407876</td>\n",
       "      <td>-28.051466</td>\n",
       "    </tr>\n",
       "    <tr>\n",
       "      <th>16002</th>\n",
       "      <td>124.935867</td>\n",
       "      <td>627.151867</td>\n",
       "      <td>5749.089462</td>\n",
       "      <td>4393.655642</td>\n",
       "    </tr>\n",
       "    <tr>\n",
       "      <th>16003</th>\n",
       "      <td>128.582108</td>\n",
       "      <td>5255.132815</td>\n",
       "      <td>2112.435941</td>\n",
       "      <td>-1009.168551</td>\n",
       "    </tr>\n",
       "    <tr>\n",
       "      <th>16004</th>\n",
       "      <td>106.997620</td>\n",
       "      <td>-8252.127742</td>\n",
       "      <td>6186.875231</td>\n",
       "      <td>883.975080</td>\n",
       "    </tr>\n",
       "  </tbody>\n",
       "</table>\n",
       "</div>"
      ],
      "text/plain": [
       "          hitTime        pmt_x         pmt_y        pmt_z\n",
       "event                                                    \n",
       "16000  104.666626 -7187.699821   4022.543151  6771.929508\n",
       "16001   93.139519    40.935368 -12232.407876   -28.051466\n",
       "16002  124.935867   627.151867   5749.089462  4393.655642\n",
       "16003  128.582108  5255.132815   2112.435941 -1009.168551\n",
       "16004  106.997620 -8252.127742   6186.875231   883.975080"
      ]
     },
     "execution_count": 18,
     "metadata": {},
     "output_type": "execute_result"
    }
   ],
   "source": [
    "base_test.head()"
   ]
  },
  {
   "cell_type": "markdown",
   "metadata": {},
   "source": [
    "## Trying YuMalyshkin features"
   ]
  },
  {
   "cell_type": "markdown",
   "metadata": {},
   "source": [
    "$N_{p.e.}$\n",
    "\n",
    "meant $1_{st}$ hit time\n",
    "\n",
    "center of hits E\n",
    "\n",
    "center of hits Z"
   ]
  },
  {
   "cell_type": "markdown",
   "metadata": {},
   "source": [
    "### Center of hits\n",
    "$$\n",
    "\\frac{\\sum_{i}^{Num\\_of\\_pmts}Position_{i} * hits\\_per\\_pmt}{Sphere\\_radius * Num\\_of\\_pmts}\n",
    "$$"
   ]
  },
  {
   "cell_type": "code",
   "execution_count": 19,
   "metadata": {},
   "outputs": [],
   "source": [
    "sphere_radius = 19200"
   ]
  },
  {
   "cell_type": "markdown",
   "metadata": {},
   "source": [
    "working with original data (not train/test separated)"
   ]
  },
  {
   "cell_type": "code",
   "execution_count": 20,
   "metadata": {
    "scrolled": true
   },
   "outputs": [
    {
     "data": {
      "text/html": [
       "<div>\n",
       "<style scoped>\n",
       "    .dataframe tbody tr th:only-of-type {\n",
       "        vertical-align: middle;\n",
       "    }\n",
       "\n",
       "    .dataframe tbody tr th {\n",
       "        vertical-align: top;\n",
       "    }\n",
       "\n",
       "    .dataframe thead th {\n",
       "        text-align: right;\n",
       "    }\n",
       "</style>\n",
       "<table border=\"1\" class=\"dataframe\">\n",
       "  <thead>\n",
       "    <tr style=\"text-align: right;\">\n",
       "      <th></th>\n",
       "      <th>event</th>\n",
       "      <th>hitTime</th>\n",
       "      <th>isDN</th>\n",
       "      <th>pmtID</th>\n",
       "    </tr>\n",
       "  </thead>\n",
       "  <tbody>\n",
       "    <tr>\n",
       "      <th>0</th>\n",
       "      <td>26000</td>\n",
       "      <td>98.512581</td>\n",
       "      <td>False</td>\n",
       "      <td>16182</td>\n",
       "    </tr>\n",
       "    <tr>\n",
       "      <th>1</th>\n",
       "      <td>26000</td>\n",
       "      <td>29.833193</td>\n",
       "      <td>False</td>\n",
       "      <td>4895</td>\n",
       "    </tr>\n",
       "    <tr>\n",
       "      <th>2</th>\n",
       "      <td>26000</td>\n",
       "      <td>44.804276</td>\n",
       "      <td>False</td>\n",
       "      <td>8485</td>\n",
       "    </tr>\n",
       "    <tr>\n",
       "      <th>3</th>\n",
       "      <td>26000</td>\n",
       "      <td>158.137482</td>\n",
       "      <td>False</td>\n",
       "      <td>10898</td>\n",
       "    </tr>\n",
       "    <tr>\n",
       "      <th>4</th>\n",
       "      <td>26000</td>\n",
       "      <td>315.410309</td>\n",
       "      <td>False</td>\n",
       "      <td>16568</td>\n",
       "    </tr>\n",
       "  </tbody>\n",
       "</table>\n",
       "</div>"
      ],
      "text/plain": [
       "   event     hitTime   isDN  pmtID\n",
       "0  26000   98.512581  False  16182\n",
       "1  26000   29.833193  False   4895\n",
       "2  26000   44.804276  False   8485\n",
       "3  26000  158.137482  False  10898\n",
       "4  26000  315.410309  False  16568"
      ]
     },
     "execution_count": 20,
     "metadata": {},
     "output_type": "execute_result"
    }
   ],
   "source": [
    "lpmt_hits.head()"
   ]
  },
  {
   "cell_type": "code",
   "execution_count": 1006,
   "metadata": {},
   "outputs": [
    {
     "data": {
      "text/html": [
       "<div>\n",
       "<style scoped>\n",
       "    .dataframe tbody tr th:only-of-type {\n",
       "        vertical-align: middle;\n",
       "    }\n",
       "\n",
       "    .dataframe tbody tr th {\n",
       "        vertical-align: top;\n",
       "    }\n",
       "\n",
       "    .dataframe thead th {\n",
       "        text-align: right;\n",
       "    }\n",
       "</style>\n",
       "<table border=\"1\" class=\"dataframe\">\n",
       "  <thead>\n",
       "    <tr style=\"text-align: right;\">\n",
       "      <th></th>\n",
       "      <th>event</th>\n",
       "      <th>hitTime</th>\n",
       "      <th>isDN</th>\n",
       "      <th>pmtID</th>\n",
       "    </tr>\n",
       "  </thead>\n",
       "  <tbody>\n",
       "    <tr>\n",
       "      <th>0</th>\n",
       "      <td>26000</td>\n",
       "      <td>98.512581</td>\n",
       "      <td>False</td>\n",
       "      <td>16182</td>\n",
       "    </tr>\n",
       "    <tr>\n",
       "      <th>1</th>\n",
       "      <td>26000</td>\n",
       "      <td>29.833193</td>\n",
       "      <td>False</td>\n",
       "      <td>4895</td>\n",
       "    </tr>\n",
       "    <tr>\n",
       "      <th>2</th>\n",
       "      <td>26000</td>\n",
       "      <td>44.804276</td>\n",
       "      <td>False</td>\n",
       "      <td>8485</td>\n",
       "    </tr>\n",
       "    <tr>\n",
       "      <th>3</th>\n",
       "      <td>26000</td>\n",
       "      <td>158.137482</td>\n",
       "      <td>False</td>\n",
       "      <td>10898</td>\n",
       "    </tr>\n",
       "    <tr>\n",
       "      <th>4</th>\n",
       "      <td>26000</td>\n",
       "      <td>315.410309</td>\n",
       "      <td>False</td>\n",
       "      <td>16568</td>\n",
       "    </tr>\n",
       "  </tbody>\n",
       "</table>\n",
       "</div>"
      ],
      "text/plain": [
       "   event     hitTime   isDN  pmtID\n",
       "0  26000   98.512581  False  16182\n",
       "1  26000   29.833193  False   4895\n",
       "2  26000   44.804276  False   8485\n",
       "3  26000  158.137482  False  10898\n",
       "4  26000  315.410309  False  16568"
      ]
     },
     "execution_count": 1006,
     "metadata": {},
     "output_type": "execute_result"
    }
   ],
   "source": [
    "data.head()"
   ]
  },
  {
   "cell_type": "code",
   "execution_count": 1008,
   "metadata": {
    "scrolled": false
   },
   "outputs": [],
   "source": [
    "#counting hits per pmt per event\n",
    "CoH_hits = pd.DataFrame(data=data.groupby(['event','pmtID']).size(), columns=['hits']).reset_index()\n",
    "\n",
    "#merging with pmt coordinates\n",
    "CoH = CoH_hits.merge(pmts_pos.rename(columns={'pmt_id':'pmtID'}), on='pmtID', how='left')\n",
    "CoH.head()\n",
    "\n",
    "#multiplying values\n",
    "CoH['X'] = CoH.hits * CoH.pmt_x\n",
    "CoH['Y'] = CoH.hits * CoH.pmt_y\n",
    "CoH['Z'] = CoH.hits * CoH.pmt_z\n",
    "\n",
    "CoH_calculation = CoH.groupby('event').agg({'X' : 'sum','Y' : 'sum','Z' : 'sum', 'pmtID' : 'count'})\n",
    "CoH_calculation.X /= (CoH_calculation.pmtID * sphere_radius)\n",
    "CoH_calculation.Y /= (CoH_calculation.pmtID * sphere_radius)\n",
    "CoH_calculation.Z /= (CoH_calculation.pmtID * sphere_radius)\n",
    "CoH_calculation.rename(columns={'pmtID':'unique_pmts'}, inplace=True)\n",
    "CoH_calculation.head()\n",
    "\n",
    "# X, Y, Z are Centers of hits for each of the exes for each event\n",
    "\n",
    "features = CoH_calculation.copy()\n",
    "\n",
    "features['1st_hit_time'] = data.groupby(['event'])['hitTime'].min()\n",
    "features['mean_hit_time'] = data.groupby('event')['hitTime'].mean() / features['1st_hit_time']\n",
    "features['pmt_per_event'] = data.groupby(['event'])['pmtID'].count()"
   ]
  },
  {
   "cell_type": "code",
   "execution_count": 1009,
   "metadata": {
    "scrolled": true
   },
   "outputs": [
    {
     "data": {
      "text/html": [
       "<div>\n",
       "<style scoped>\n",
       "    .dataframe tbody tr th:only-of-type {\n",
       "        vertical-align: middle;\n",
       "    }\n",
       "\n",
       "    .dataframe tbody tr th {\n",
       "        vertical-align: top;\n",
       "    }\n",
       "\n",
       "    .dataframe thead th {\n",
       "        text-align: right;\n",
       "    }\n",
       "</style>\n",
       "<table border=\"1\" class=\"dataframe\">\n",
       "  <thead>\n",
       "    <tr style=\"text-align: right;\">\n",
       "      <th></th>\n",
       "      <th>X</th>\n",
       "      <th>Y</th>\n",
       "      <th>Z</th>\n",
       "      <th>unique_pmts</th>\n",
       "      <th>1st_hit_time</th>\n",
       "      <th>mean_hit_time</th>\n",
       "      <th>pmt_per_event</th>\n",
       "    </tr>\n",
       "    <tr>\n",
       "      <th>event</th>\n",
       "      <th></th>\n",
       "      <th></th>\n",
       "      <th></th>\n",
       "      <th></th>\n",
       "      <th></th>\n",
       "      <th></th>\n",
       "      <th></th>\n",
       "    </tr>\n",
       "  </thead>\n",
       "  <tbody>\n",
       "    <tr>\n",
       "      <th>0</th>\n",
       "      <td>0.613218</td>\n",
       "      <td>0.903015</td>\n",
       "      <td>0.069803</td>\n",
       "      <td>4794</td>\n",
       "      <td>24.005239</td>\n",
       "      <td>3.963422</td>\n",
       "      <td>8371</td>\n",
       "    </tr>\n",
       "    <tr>\n",
       "      <th>1</th>\n",
       "      <td>0.759930</td>\n",
       "      <td>0.353402</td>\n",
       "      <td>-0.470822</td>\n",
       "      <td>4211</td>\n",
       "      <td>23.550785</td>\n",
       "      <td>4.182749</td>\n",
       "      <td>6716</td>\n",
       "    </tr>\n",
       "    <tr>\n",
       "      <th>2</th>\n",
       "      <td>1.155916</td>\n",
       "      <td>-0.332526</td>\n",
       "      <td>0.021721</td>\n",
       "      <td>6011</td>\n",
       "      <td>23.950851</td>\n",
       "      <td>4.025948</td>\n",
       "      <td>11635</td>\n",
       "    </tr>\n",
       "    <tr>\n",
       "      <th>3</th>\n",
       "      <td>-0.144840</td>\n",
       "      <td>-1.113953</td>\n",
       "      <td>0.233909</td>\n",
       "      <td>3330</td>\n",
       "      <td>12.362344</td>\n",
       "      <td>8.110825</td>\n",
       "      <td>6172</td>\n",
       "    </tr>\n",
       "    <tr>\n",
       "      <th>4</th>\n",
       "      <td>-0.515799</td>\n",
       "      <td>0.051515</td>\n",
       "      <td>0.574172</td>\n",
       "      <td>3888</td>\n",
       "      <td>32.193615</td>\n",
       "      <td>3.250147</td>\n",
       "      <td>5423</td>\n",
       "    </tr>\n",
       "  </tbody>\n",
       "</table>\n",
       "</div>"
      ],
      "text/plain": [
       "              X         Y         Z  unique_pmts  1st_hit_time  mean_hit_time  \\\n",
       "event                                                                           \n",
       "0      0.613218  0.903015  0.069803         4794     24.005239       3.963422   \n",
       "1      0.759930  0.353402 -0.470822         4211     23.550785       4.182749   \n",
       "2      1.155916 -0.332526  0.021721         6011     23.950851       4.025948   \n",
       "3     -0.144840 -1.113953  0.233909         3330     12.362344       8.110825   \n",
       "4     -0.515799  0.051515  0.574172         3888     32.193615       3.250147   \n",
       "\n",
       "       pmt_per_event  \n",
       "event                 \n",
       "0               8371  \n",
       "1               6716  \n",
       "2              11635  \n",
       "3               6172  \n",
       "4               5423  "
      ]
     },
     "execution_count": 1009,
     "metadata": {},
     "output_type": "execute_result"
    }
   ],
   "source": [
    "features.head()"
   ]
  },
  {
   "cell_type": "code",
   "execution_count": 1010,
   "metadata": {},
   "outputs": [
    {
     "data": {
      "text/plain": [
       "(21000, 7)"
      ]
     },
     "execution_count": 1010,
     "metadata": {},
     "output_type": "execute_result"
    }
   ],
   "source": [
    "features.shape"
   ]
  },
  {
   "cell_type": "raw",
   "metadata": {},
   "source": [
    "features.to_hdf('./juno/features.h5', key='feat', mode='w')"
   ]
  },
  {
   "cell_type": "code",
   "execution_count": 1011,
   "metadata": {},
   "outputs": [],
   "source": [
    "final_features = ['X', 'Y', 'Z', 'unique_pmts', 'mean_hit_time']"
   ]
  },
  {
   "cell_type": "code",
   "execution_count": 25,
   "metadata": {},
   "outputs": [
    {
     "data": {
      "image/png": "[encoded data removed]",
      "text/plain": [
       "<Figure size 1152x792 with 2 Axes>"
      ]
     },
     "metadata": {
      "needs_background": "light"
     },
     "output_type": "display_data"
    }
   ],
   "source": [
    "corr = features.corr('spearman') \n",
    "plt.figure(figsize = ( 16 , 11 )) \n",
    "sns.heatmap(corr,annot=True,fmt='.2f',cmap=\"YlGnBu\");"
   ]
  },
  {
   "cell_type": "code",
   "execution_count": 1012,
   "metadata": {},
   "outputs": [],
   "source": [
    "features = features[final_features]"
   ]
  },
  {
   "cell_type": "code",
   "execution_count": 1015,
   "metadata": {},
   "outputs": [
    {
     "data": {
      "text/plain": [
       "(21000, 5)"
      ]
     },
     "execution_count": 1015,
     "metadata": {},
     "output_type": "execute_result"
    }
   ],
   "source": [
    "features.shape"
   ]
  },
  {
   "cell_type": "code",
   "execution_count": 27,
   "metadata": {},
   "outputs": [
    {
     "data": {
      "text/html": [
       "<div>\n",
       "<style scoped>\n",
       "    .dataframe tbody tr th:only-of-type {\n",
       "        vertical-align: middle;\n",
       "    }\n",
       "\n",
       "    .dataframe tbody tr th {\n",
       "        vertical-align: top;\n",
       "    }\n",
       "\n",
       "    .dataframe thead th {\n",
       "        text-align: right;\n",
       "    }\n",
       "</style>\n",
       "<table border=\"1\" class=\"dataframe\">\n",
       "  <thead>\n",
       "    <tr style=\"text-align: right;\">\n",
       "      <th></th>\n",
       "      <th>E</th>\n",
       "      <th>R</th>\n",
       "      <th>evtID</th>\n",
       "      <th>x</th>\n",
       "      <th>y</th>\n",
       "      <th>z</th>\n",
       "    </tr>\n",
       "  </thead>\n",
       "  <tbody>\n",
       "    <tr>\n",
       "      <th>0</th>\n",
       "      <td>7.397038</td>\n",
       "      <td>15267.927</td>\n",
       "      <td>26000</td>\n",
       "      <td>13759.8120</td>\n",
       "      <td>-2082.3127</td>\n",
       "      <td>6280.2180</td>\n",
       "    </tr>\n",
       "    <tr>\n",
       "      <th>1</th>\n",
       "      <td>8.934670</td>\n",
       "      <td>17321.850</td>\n",
       "      <td>26001</td>\n",
       "      <td>-11983.3910</td>\n",
       "      <td>12273.5100</td>\n",
       "      <td>2409.5234</td>\n",
       "    </tr>\n",
       "    <tr>\n",
       "      <th>2</th>\n",
       "      <td>5.901982</td>\n",
       "      <td>17258.846</td>\n",
       "      <td>26002</td>\n",
       "      <td>-16006.6580</td>\n",
       "      <td>2820.8100</td>\n",
       "      <td>-5804.9690</td>\n",
       "    </tr>\n",
       "    <tr>\n",
       "      <th>3</th>\n",
       "      <td>6.396549</td>\n",
       "      <td>6628.715</td>\n",
       "      <td>26003</td>\n",
       "      <td>937.7113</td>\n",
       "      <td>2855.7812</td>\n",
       "      <td>5908.0513</td>\n",
       "    </tr>\n",
       "    <tr>\n",
       "      <th>4</th>\n",
       "      <td>9.518383</td>\n",
       "      <td>16806.303</td>\n",
       "      <td>26004</td>\n",
       "      <td>-9749.3150</td>\n",
       "      <td>-3329.8782</td>\n",
       "      <td>13278.3510</td>\n",
       "    </tr>\n",
       "  </tbody>\n",
       "</table>\n",
       "</div>"
      ],
      "text/plain": [
       "          E          R  evtID           x           y           z\n",
       "0  7.397038  15267.927  26000  13759.8120  -2082.3127   6280.2180\n",
       "1  8.934670  17321.850  26001 -11983.3910  12273.5100   2409.5234\n",
       "2  5.901982  17258.846  26002 -16006.6580   2820.8100  -5804.9690\n",
       "3  6.396549   6628.715  26003    937.7113   2855.7812   5908.0513\n",
       "4  9.518383  16806.303  26004  -9749.3150  -3329.8782  13278.3510"
      ]
     },
     "execution_count": 27,
     "metadata": {},
     "output_type": "execute_result"
    }
   ],
   "source": [
    "true_info.head()"
   ]
  },
  {
   "cell_type": "code",
   "execution_count": null,
   "metadata": {},
   "outputs": [],
   "source": []
  },
  {
   "cell_type": "code",
   "execution_count": 60,
   "metadata": {},
   "outputs": [
    {
     "data": {
      "text/plain": [
       "(21000, 5)"
      ]
     },
     "execution_count": 60,
     "metadata": {},
     "output_type": "execute_result"
    }
   ],
   "source": [
    "features.shape"
   ]
  },
  {
   "cell_type": "code",
   "execution_count": 61,
   "metadata": {},
   "outputs": [
    {
     "data": {
      "text/plain": [
       "(16000, 6)"
      ]
     },
     "execution_count": 61,
     "metadata": {},
     "output_type": "execute_result"
    }
   ],
   "source": [
    "true_info.shape"
   ]
  },
  {
   "cell_type": "code",
   "execution_count": 62,
   "metadata": {},
   "outputs": [
    {
     "data": {
      "text/plain": [
       "16000"
      ]
     },
     "execution_count": 62,
     "metadata": {},
     "output_type": "execute_result"
    }
   ],
   "source": [
    "split_events"
   ]
  },
  {
   "cell_type": "markdown",
   "metadata": {},
   "source": [
    "# CatBoost"
   ]
  },
  {
   "cell_type": "code",
   "execution_count": 383,
   "metadata": {},
   "outputs": [],
   "source": [
    "X_train = features.iloc[:split_events]\n",
    "X_test = features.iloc[split_events:]"
   ]
  },
  {
   "cell_type": "code",
   "execution_count": 387,
   "metadata": {},
   "outputs": [],
   "source": []
  },
  {
   "cell_type": "code",
   "execution_count": 78,
   "metadata": {
    "scrolled": true
   },
   "outputs": [
    {
     "data": {
      "text/html": [
       "<div>\n",
       "<style scoped>\n",
       "    .dataframe tbody tr th:only-of-type {\n",
       "        vertical-align: middle;\n",
       "    }\n",
       "\n",
       "    .dataframe tbody tr th {\n",
       "        vertical-align: top;\n",
       "    }\n",
       "\n",
       "    .dataframe thead th {\n",
       "        text-align: right;\n",
       "    }\n",
       "</style>\n",
       "<table border=\"1\" class=\"dataframe\">\n",
       "  <thead>\n",
       "    <tr style=\"text-align: right;\">\n",
       "      <th></th>\n",
       "      <th>X</th>\n",
       "      <th>Y</th>\n",
       "      <th>Z</th>\n",
       "      <th>unique_pmts</th>\n",
       "      <th>mean_hit_time</th>\n",
       "    </tr>\n",
       "    <tr>\n",
       "      <th>event</th>\n",
       "      <th></th>\n",
       "      <th></th>\n",
       "      <th></th>\n",
       "      <th></th>\n",
       "      <th></th>\n",
       "    </tr>\n",
       "  </thead>\n",
       "  <tbody>\n",
       "    <tr>\n",
       "      <th>42000</th>\n",
       "      <td>-0.206443</td>\n",
       "      <td>-0.833504</td>\n",
       "      <td>0.177160</td>\n",
       "      <td>3527</td>\n",
       "      <td>-1.426612</td>\n",
       "    </tr>\n",
       "    <tr>\n",
       "      <th>42001</th>\n",
       "      <td>-0.918808</td>\n",
       "      <td>0.709120</td>\n",
       "      <td>-0.433661</td>\n",
       "      <td>5988</td>\n",
       "      <td>-1.175502</td>\n",
       "    </tr>\n",
       "    <tr>\n",
       "      <th>42002</th>\n",
       "      <td>-0.107736</td>\n",
       "      <td>-0.423874</td>\n",
       "      <td>0.319924</td>\n",
       "      <td>4878</td>\n",
       "      <td>-1.521969</td>\n",
       "    </tr>\n",
       "    <tr>\n",
       "      <th>42003</th>\n",
       "      <td>-0.177832</td>\n",
       "      <td>-0.313203</td>\n",
       "      <td>-0.834091</td>\n",
       "      <td>4715</td>\n",
       "      <td>-1.341060</td>\n",
       "    </tr>\n",
       "    <tr>\n",
       "      <th>42004</th>\n",
       "      <td>0.218156</td>\n",
       "      <td>-0.029867</td>\n",
       "      <td>0.521956</td>\n",
       "      <td>2022</td>\n",
       "      <td>-1.862988</td>\n",
       "    </tr>\n",
       "  </tbody>\n",
       "</table>\n",
       "</div>"
      ],
      "text/plain": [
       "              X         Y         Z  unique_pmts  mean_hit_time\n",
       "event                                                          \n",
       "42000 -0.206443 -0.833504  0.177160         3527      -1.426612\n",
       "42001 -0.918808  0.709120 -0.433661         5988      -1.175502\n",
       "42002 -0.107736 -0.423874  0.319924         4878      -1.521969\n",
       "42003 -0.177832 -0.313203 -0.834091         4715      -1.341060\n",
       "42004  0.218156 -0.029867  0.521956         2022      -1.862988"
      ]
     },
     "execution_count": 78,
     "metadata": {},
     "output_type": "execute_result"
    }
   ],
   "source": [
    "X_test.head()"
   ]
  },
  {
   "cell_type": "code",
   "execution_count": 30,
   "metadata": {},
   "outputs": [
    {
     "data": {
      "text/plain": [
       "(16000, 6)"
      ]
     },
     "execution_count": 30,
     "metadata": {},
     "output_type": "execute_result"
    }
   ],
   "source": [
    "true_info.shape"
   ]
  },
  {
   "cell_type": "code",
   "execution_count": 59,
   "metadata": {
    "collapsed": true
   },
   "outputs": [
    {
     "data": {
      "text/html": [
       "<div>\n",
       "<style scoped>\n",
       "    .dataframe tbody tr th:only-of-type {\n",
       "        vertical-align: middle;\n",
       "    }\n",
       "\n",
       "    .dataframe tbody tr th {\n",
       "        vertical-align: top;\n",
       "    }\n",
       "\n",
       "    .dataframe thead th {\n",
       "        text-align: right;\n",
       "    }\n",
       "</style>\n",
       "<table border=\"1\" class=\"dataframe\">\n",
       "  <thead>\n",
       "    <tr style=\"text-align: right;\">\n",
       "      <th></th>\n",
       "      <th>hitTime</th>\n",
       "      <th>pmt_x</th>\n",
       "      <th>pmt_y</th>\n",
       "      <th>pmt_z</th>\n",
       "    </tr>\n",
       "    <tr>\n",
       "      <th>event</th>\n",
       "      <th></th>\n",
       "      <th></th>\n",
       "      <th></th>\n",
       "      <th></th>\n",
       "    </tr>\n",
       "  </thead>\n",
       "  <tbody>\n",
       "    <tr>\n",
       "      <th>0</th>\n",
       "      <td>95.142883</td>\n",
       "      <td>6742.747754</td>\n",
       "      <td>9929.261316</td>\n",
       "      <td>767.530051</td>\n",
       "    </tr>\n",
       "    <tr>\n",
       "      <th>1</th>\n",
       "      <td>98.507034</td>\n",
       "      <td>9148.488313</td>\n",
       "      <td>4254.463594</td>\n",
       "      <td>-5668.030986</td>\n",
       "    </tr>\n",
       "    <tr>\n",
       "      <th>2</th>\n",
       "      <td>96.424873</td>\n",
       "      <td>11465.888473</td>\n",
       "      <td>-3298.430170</td>\n",
       "      <td>215.455769</td>\n",
       "    </tr>\n",
       "    <tr>\n",
       "      <th>3</th>\n",
       "      <td>100.268799</td>\n",
       "      <td>-1500.403105</td>\n",
       "      <td>-11539.483607</td>\n",
       "      <td>2423.068899</td>\n",
       "    </tr>\n",
       "    <tr>\n",
       "      <th>4</th>\n",
       "      <td>104.633980</td>\n",
       "      <td>-7100.159824</td>\n",
       "      <td>709.128010</td>\n",
       "      <td>7903.695198</td>\n",
       "    </tr>\n",
       "    <tr>\n",
       "      <th>5</th>\n",
       "      <td>94.001892</td>\n",
       "      <td>3216.086416</td>\n",
       "      <td>7470.465446</td>\n",
       "      <td>8721.292460</td>\n",
       "    </tr>\n",
       "    <tr>\n",
       "      <th>6</th>\n",
       "      <td>94.231995</td>\n",
       "      <td>1265.835589</td>\n",
       "      <td>-9412.370616</td>\n",
       "      <td>-7289.322666</td>\n",
       "    </tr>\n",
       "    <tr>\n",
       "      <th>7</th>\n",
       "      <td>103.424362</td>\n",
       "      <td>-1543.976834</td>\n",
       "      <td>6765.496230</td>\n",
       "      <td>9148.270622</td>\n",
       "    </tr>\n",
       "    <tr>\n",
       "      <th>8</th>\n",
       "      <td>125.090721</td>\n",
       "      <td>3924.965117</td>\n",
       "      <td>-1605.223731</td>\n",
       "      <td>-5210.235467</td>\n",
       "    </tr>\n",
       "    <tr>\n",
       "      <th>9</th>\n",
       "      <td>90.957092</td>\n",
       "      <td>-9527.079896</td>\n",
       "      <td>-6443.874107</td>\n",
       "      <td>-4379.483687</td>\n",
       "    </tr>\n",
       "    <tr>\n",
       "      <th>10</th>\n",
       "      <td>93.383354</td>\n",
       "      <td>2485.284713</td>\n",
       "      <td>8564.771616</td>\n",
       "      <td>-8171.552887</td>\n",
       "    </tr>\n",
       "    <tr>\n",
       "      <th>11</th>\n",
       "      <td>113.472679</td>\n",
       "      <td>4420.926484</td>\n",
       "      <td>-7673.772388</td>\n",
       "      <td>3773.244128</td>\n",
       "    </tr>\n",
       "    <tr>\n",
       "      <th>12</th>\n",
       "      <td>103.378296</td>\n",
       "      <td>8739.696268</td>\n",
       "      <td>-4942.284160</td>\n",
       "      <td>4429.618815</td>\n",
       "    </tr>\n",
       "    <tr>\n",
       "      <th>13</th>\n",
       "      <td>93.872787</td>\n",
       "      <td>-1473.141103</td>\n",
       "      <td>8235.507597</td>\n",
       "      <td>8698.244991</td>\n",
       "    </tr>\n",
       "    <tr>\n",
       "      <th>14</th>\n",
       "      <td>110.785400</td>\n",
       "      <td>-1989.257786</td>\n",
       "      <td>1192.279533</td>\n",
       "      <td>-9695.191418</td>\n",
       "    </tr>\n",
       "    <tr>\n",
       "      <th>15</th>\n",
       "      <td>93.821709</td>\n",
       "      <td>4637.129746</td>\n",
       "      <td>4438.704904</td>\n",
       "      <td>-10395.903852</td>\n",
       "    </tr>\n",
       "    <tr>\n",
       "      <th>16</th>\n",
       "      <td>129.695007</td>\n",
       "      <td>356.479833</td>\n",
       "      <td>-5667.295835</td>\n",
       "      <td>226.656149</td>\n",
       "    </tr>\n",
       "    <tr>\n",
       "      <th>17</th>\n",
       "      <td>95.998581</td>\n",
       "      <td>-7351.624824</td>\n",
       "      <td>1467.444940</td>\n",
       "      <td>-8952.178865</td>\n",
       "    </tr>\n",
       "    <tr>\n",
       "      <th>18</th>\n",
       "      <td>114.002289</td>\n",
       "      <td>-1743.935223</td>\n",
       "      <td>8724.755167</td>\n",
       "      <td>-2932.295019</td>\n",
       "    </tr>\n",
       "    <tr>\n",
       "      <th>19</th>\n",
       "      <td>100.125183</td>\n",
       "      <td>-2083.748643</td>\n",
       "      <td>9241.288084</td>\n",
       "      <td>7031.456666</td>\n",
       "    </tr>\n",
       "    <tr>\n",
       "      <th>20</th>\n",
       "      <td>97.335480</td>\n",
       "      <td>4882.226848</td>\n",
       "      <td>10522.013602</td>\n",
       "      <td>826.676096</td>\n",
       "    </tr>\n",
       "    <tr>\n",
       "      <th>21</th>\n",
       "      <td>94.737076</td>\n",
       "      <td>11308.720424</td>\n",
       "      <td>2983.226939</td>\n",
       "      <td>-2355.537114</td>\n",
       "    </tr>\n",
       "    <tr>\n",
       "      <th>22</th>\n",
       "      <td>95.658699</td>\n",
       "      <td>5042.631043</td>\n",
       "      <td>10208.479697</td>\n",
       "      <td>3761.180533</td>\n",
       "    </tr>\n",
       "    <tr>\n",
       "      <th>23</th>\n",
       "      <td>91.029350</td>\n",
       "      <td>-2524.132220</td>\n",
       "      <td>11938.484902</td>\n",
       "      <td>2847.414890</td>\n",
       "    </tr>\n",
       "    <tr>\n",
       "      <th>24</th>\n",
       "      <td>102.614563</td>\n",
       "      <td>3568.158424</td>\n",
       "      <td>-4236.541691</td>\n",
       "      <td>-10005.834378</td>\n",
       "    </tr>\n",
       "    <tr>\n",
       "      <th>25</th>\n",
       "      <td>129.880676</td>\n",
       "      <td>5123.114158</td>\n",
       "      <td>-64.248940</td>\n",
       "      <td>-1549.029784</td>\n",
       "    </tr>\n",
       "    <tr>\n",
       "      <th>26</th>\n",
       "      <td>95.877563</td>\n",
       "      <td>-9124.450517</td>\n",
       "      <td>-2717.031745</td>\n",
       "      <td>7070.178878</td>\n",
       "    </tr>\n",
       "    <tr>\n",
       "      <th>27</th>\n",
       "      <td>94.914581</td>\n",
       "      <td>7121.865497</td>\n",
       "      <td>-10007.248081</td>\n",
       "      <td>381.647018</td>\n",
       "    </tr>\n",
       "    <tr>\n",
       "      <th>28</th>\n",
       "      <td>103.153786</td>\n",
       "      <td>-7777.554432</td>\n",
       "      <td>-7512.294412</td>\n",
       "      <td>-918.687014</td>\n",
       "    </tr>\n",
       "    <tr>\n",
       "      <th>29</th>\n",
       "      <td>117.440544</td>\n",
       "      <td>1138.075511</td>\n",
       "      <td>-5586.439863</td>\n",
       "      <td>6385.783222</td>\n",
       "    </tr>\n",
       "    <tr>\n",
       "      <th>...</th>\n",
       "      <td>...</td>\n",
       "      <td>...</td>\n",
       "      <td>...</td>\n",
       "      <td>...</td>\n",
       "    </tr>\n",
       "    <tr>\n",
       "      <th>15970</th>\n",
       "      <td>89.409210</td>\n",
       "      <td>10090.351180</td>\n",
       "      <td>-7816.736775</td>\n",
       "      <td>1568.921763</td>\n",
       "    </tr>\n",
       "    <tr>\n",
       "      <th>15971</th>\n",
       "      <td>110.944466</td>\n",
       "      <td>961.860363</td>\n",
       "      <td>-1186.042956</td>\n",
       "      <td>-9462.430469</td>\n",
       "    </tr>\n",
       "    <tr>\n",
       "      <th>15972</th>\n",
       "      <td>99.952728</td>\n",
       "      <td>-6281.075662</td>\n",
       "      <td>-9238.244731</td>\n",
       "      <td>-4016.588337</td>\n",
       "    </tr>\n",
       "    <tr>\n",
       "      <th>15973</th>\n",
       "      <td>105.711632</td>\n",
       "      <td>-1524.318208</td>\n",
       "      <td>4280.927242</td>\n",
       "      <td>-9461.416328</td>\n",
       "    </tr>\n",
       "    <tr>\n",
       "      <th>15974</th>\n",
       "      <td>99.602699</td>\n",
       "      <td>-4365.354015</td>\n",
       "      <td>11342.798658</td>\n",
       "      <td>715.194440</td>\n",
       "    </tr>\n",
       "    <tr>\n",
       "      <th>15975</th>\n",
       "      <td>121.307091</td>\n",
       "      <td>2465.364012</td>\n",
       "      <td>-118.901581</td>\n",
       "      <td>7500.736510</td>\n",
       "    </tr>\n",
       "    <tr>\n",
       "      <th>15976</th>\n",
       "      <td>104.326256</td>\n",
       "      <td>-6949.559162</td>\n",
       "      <td>-8362.512019</td>\n",
       "      <td>895.320362</td>\n",
       "    </tr>\n",
       "    <tr>\n",
       "      <th>15977</th>\n",
       "      <td>98.600609</td>\n",
       "      <td>-10808.080289</td>\n",
       "      <td>4499.213140</td>\n",
       "      <td>-3464.669594</td>\n",
       "    </tr>\n",
       "    <tr>\n",
       "      <th>15978</th>\n",
       "      <td>99.636459</td>\n",
       "      <td>-8735.143919</td>\n",
       "      <td>-5695.772258</td>\n",
       "      <td>-5335.532029</td>\n",
       "    </tr>\n",
       "    <tr>\n",
       "      <th>15979</th>\n",
       "      <td>113.634560</td>\n",
       "      <td>-5365.065629</td>\n",
       "      <td>-1353.382300</td>\n",
       "      <td>-7350.883510</td>\n",
       "    </tr>\n",
       "    <tr>\n",
       "      <th>15980</th>\n",
       "      <td>92.674118</td>\n",
       "      <td>9231.574865</td>\n",
       "      <td>-6607.110516</td>\n",
       "      <td>4650.351391</td>\n",
       "    </tr>\n",
       "    <tr>\n",
       "      <th>15981</th>\n",
       "      <td>124.781143</td>\n",
       "      <td>970.841361</td>\n",
       "      <td>5557.422688</td>\n",
       "      <td>3858.118629</td>\n",
       "    </tr>\n",
       "    <tr>\n",
       "      <th>15982</th>\n",
       "      <td>96.437164</td>\n",
       "      <td>10207.223577</td>\n",
       "      <td>-1966.539360</td>\n",
       "      <td>5865.661401</td>\n",
       "    </tr>\n",
       "    <tr>\n",
       "      <th>15983</th>\n",
       "      <td>91.323021</td>\n",
       "      <td>12470.736437</td>\n",
       "      <td>-341.772325</td>\n",
       "      <td>770.933567</td>\n",
       "    </tr>\n",
       "    <tr>\n",
       "      <th>15984</th>\n",
       "      <td>93.548416</td>\n",
       "      <td>7904.324540</td>\n",
       "      <td>-6576.899103</td>\n",
       "      <td>-6302.077411</td>\n",
       "    </tr>\n",
       "    <tr>\n",
       "      <th>15985</th>\n",
       "      <td>121.192802</td>\n",
       "      <td>-1956.819031</td>\n",
       "      <td>4951.959469</td>\n",
       "      <td>-5648.079821</td>\n",
       "    </tr>\n",
       "    <tr>\n",
       "      <th>15986</th>\n",
       "      <td>110.259048</td>\n",
       "      <td>8799.637351</td>\n",
       "      <td>2600.238654</td>\n",
       "      <td>-3127.792460</td>\n",
       "    </tr>\n",
       "    <tr>\n",
       "      <th>15987</th>\n",
       "      <td>100.993629</td>\n",
       "      <td>-615.957981</td>\n",
       "      <td>6787.565956</td>\n",
       "      <td>9588.628043</td>\n",
       "    </tr>\n",
       "    <tr>\n",
       "      <th>15988</th>\n",
       "      <td>97.495255</td>\n",
       "      <td>4667.025103</td>\n",
       "      <td>2204.943244</td>\n",
       "      <td>10560.696538</td>\n",
       "    </tr>\n",
       "    <tr>\n",
       "      <th>15989</th>\n",
       "      <td>106.879997</td>\n",
       "      <td>-4648.477434</td>\n",
       "      <td>4666.891814</td>\n",
       "      <td>8218.873651</td>\n",
       "    </tr>\n",
       "    <tr>\n",
       "      <th>15990</th>\n",
       "      <td>135.352234</td>\n",
       "      <td>1615.565408</td>\n",
       "      <td>1396.580728</td>\n",
       "      <td>1991.159135</td>\n",
       "    </tr>\n",
       "    <tr>\n",
       "      <th>15991</th>\n",
       "      <td>95.538345</td>\n",
       "      <td>7917.844323</td>\n",
       "      <td>-4287.383507</td>\n",
       "      <td>-7666.995116</td>\n",
       "    </tr>\n",
       "    <tr>\n",
       "      <th>15992</th>\n",
       "      <td>99.272987</td>\n",
       "      <td>6999.348904</td>\n",
       "      <td>-8156.391152</td>\n",
       "      <td>4798.452688</td>\n",
       "    </tr>\n",
       "    <tr>\n",
       "      <th>15993</th>\n",
       "      <td>97.759636</td>\n",
       "      <td>-2139.002121</td>\n",
       "      <td>-2559.941906</td>\n",
       "      <td>-11030.006351</td>\n",
       "    </tr>\n",
       "    <tr>\n",
       "      <th>15994</th>\n",
       "      <td>98.339500</td>\n",
       "      <td>10924.503520</td>\n",
       "      <td>2621.589417</td>\n",
       "      <td>-4003.020187</td>\n",
       "    </tr>\n",
       "    <tr>\n",
       "      <th>15995</th>\n",
       "      <td>100.826141</td>\n",
       "      <td>-5701.741485</td>\n",
       "      <td>-9667.291277</td>\n",
       "      <td>288.864490</td>\n",
       "    </tr>\n",
       "    <tr>\n",
       "      <th>15996</th>\n",
       "      <td>94.651642</td>\n",
       "      <td>-3031.871035</td>\n",
       "      <td>8427.841265</td>\n",
       "      <td>8161.779050</td>\n",
       "    </tr>\n",
       "    <tr>\n",
       "      <th>15997</th>\n",
       "      <td>95.679283</td>\n",
       "      <td>-9824.206230</td>\n",
       "      <td>3605.002384</td>\n",
       "      <td>5584.650377</td>\n",
       "    </tr>\n",
       "    <tr>\n",
       "      <th>15998</th>\n",
       "      <td>100.418327</td>\n",
       "      <td>364.598778</td>\n",
       "      <td>-11258.631965</td>\n",
       "      <td>-1449.575412</td>\n",
       "    </tr>\n",
       "    <tr>\n",
       "      <th>15999</th>\n",
       "      <td>118.892052</td>\n",
       "      <td>-5884.866476</td>\n",
       "      <td>-350.463376</td>\n",
       "      <td>-5797.604099</td>\n",
       "    </tr>\n",
       "  </tbody>\n",
       "</table>\n",
       "<p>16000 rows × 4 columns</p>\n",
       "</div>"
      ],
      "text/plain": [
       "          hitTime         pmt_x         pmt_y         pmt_z\n",
       "event                                                      \n",
       "0       95.142883   6742.747754   9929.261316    767.530051\n",
       "1       98.507034   9148.488313   4254.463594  -5668.030986\n",
       "2       96.424873  11465.888473  -3298.430170    215.455769\n",
       "3      100.268799  -1500.403105 -11539.483607   2423.068899\n",
       "4      104.633980  -7100.159824    709.128010   7903.695198\n",
       "5       94.001892   3216.086416   7470.465446   8721.292460\n",
       "6       94.231995   1265.835589  -9412.370616  -7289.322666\n",
       "7      103.424362  -1543.976834   6765.496230   9148.270622\n",
       "8      125.090721   3924.965117  -1605.223731  -5210.235467\n",
       "9       90.957092  -9527.079896  -6443.874107  -4379.483687\n",
       "10      93.383354   2485.284713   8564.771616  -8171.552887\n",
       "11     113.472679   4420.926484  -7673.772388   3773.244128\n",
       "12     103.378296   8739.696268  -4942.284160   4429.618815\n",
       "13      93.872787  -1473.141103   8235.507597   8698.244991\n",
       "14     110.785400  -1989.257786   1192.279533  -9695.191418\n",
       "15      93.821709   4637.129746   4438.704904 -10395.903852\n",
       "16     129.695007    356.479833  -5667.295835    226.656149\n",
       "17      95.998581  -7351.624824   1467.444940  -8952.178865\n",
       "18     114.002289  -1743.935223   8724.755167  -2932.295019\n",
       "19     100.125183  -2083.748643   9241.288084   7031.456666\n",
       "20      97.335480   4882.226848  10522.013602    826.676096\n",
       "21      94.737076  11308.720424   2983.226939  -2355.537114\n",
       "22      95.658699   5042.631043  10208.479697   3761.180533\n",
       "23      91.029350  -2524.132220  11938.484902   2847.414890\n",
       "24     102.614563   3568.158424  -4236.541691 -10005.834378\n",
       "25     129.880676   5123.114158    -64.248940  -1549.029784\n",
       "26      95.877563  -9124.450517  -2717.031745   7070.178878\n",
       "27      94.914581   7121.865497 -10007.248081    381.647018\n",
       "28     103.153786  -7777.554432  -7512.294412   -918.687014\n",
       "29     117.440544   1138.075511  -5586.439863   6385.783222\n",
       "...           ...           ...           ...           ...\n",
       "15970   89.409210  10090.351180  -7816.736775   1568.921763\n",
       "15971  110.944466    961.860363  -1186.042956  -9462.430469\n",
       "15972   99.952728  -6281.075662  -9238.244731  -4016.588337\n",
       "15973  105.711632  -1524.318208   4280.927242  -9461.416328\n",
       "15974   99.602699  -4365.354015  11342.798658    715.194440\n",
       "15975  121.307091   2465.364012   -118.901581   7500.736510\n",
       "15976  104.326256  -6949.559162  -8362.512019    895.320362\n",
       "15977   98.600609 -10808.080289   4499.213140  -3464.669594\n",
       "15978   99.636459  -8735.143919  -5695.772258  -5335.532029\n",
       "15979  113.634560  -5365.065629  -1353.382300  -7350.883510\n",
       "15980   92.674118   9231.574865  -6607.110516   4650.351391\n",
       "15981  124.781143    970.841361   5557.422688   3858.118629\n",
       "15982   96.437164  10207.223577  -1966.539360   5865.661401\n",
       "15983   91.323021  12470.736437   -341.772325    770.933567\n",
       "15984   93.548416   7904.324540  -6576.899103  -6302.077411\n",
       "15985  121.192802  -1956.819031   4951.959469  -5648.079821\n",
       "15986  110.259048   8799.637351   2600.238654  -3127.792460\n",
       "15987  100.993629   -615.957981   6787.565956   9588.628043\n",
       "15988   97.495255   4667.025103   2204.943244  10560.696538\n",
       "15989  106.879997  -4648.477434   4666.891814   8218.873651\n",
       "15990  135.352234   1615.565408   1396.580728   1991.159135\n",
       "15991   95.538345   7917.844323  -4287.383507  -7666.995116\n",
       "15992   99.272987   6999.348904  -8156.391152   4798.452688\n",
       "15993   97.759636  -2139.002121  -2559.941906 -11030.006351\n",
       "15994   98.339500  10924.503520   2621.589417  -4003.020187\n",
       "15995  100.826141  -5701.741485  -9667.291277    288.864490\n",
       "15996   94.651642  -3031.871035   8427.841265   8161.779050\n",
       "15997   95.679283  -9824.206230   3605.002384   5584.650377\n",
       "15998  100.418327    364.598778 -11258.631965  -1449.575412\n",
       "15999  118.892052  -5884.866476   -350.463376  -5797.604099\n",
       "\n",
       "[16000 rows x 4 columns]"
      ]
     },
     "execution_count": 59,
     "metadata": {},
     "output_type": "execute_result"
    }
   ],
   "source": [
    "base_train"
   ]
  },
  {
   "cell_type": "code",
   "execution_count": 31,
   "metadata": {},
   "outputs": [],
   "source": [
    "from catboost import Pool, CatBoostRegressor"
   ]
  },
  {
   "cell_type": "markdown",
   "metadata": {},
   "source": [
    "### baseline"
   ]
  },
  {
   "cell_type": "code",
   "execution_count": 32,
   "metadata": {},
   "outputs": [],
   "source": [
    "baseline_train_pool_E = Pool(base_train.values, \n",
    "                  true_info[\"E\"].values)\n",
    "baseline_train_pool_R = Pool(base_train.values, \n",
    "                  true_info[\"R\"].values)"
   ]
  },
  {
   "cell_type": "code",
   "execution_count": 33,
   "metadata": {},
   "outputs": [],
   "source": [
    "baseline_model_E = CatBoostRegressor(iterations=300, \n",
    "                          depth=3, \n",
    "                          learning_rate=0.1, \n",
    "                          loss_function='RMSE').fit(baseline_train_pool_E, verbose=False)\n",
    "baseline_model_R = CatBoostRegressor(iterations=300, \n",
    "                          depth=3, \n",
    "                          learning_rate=0.1, \n",
    "                          loss_function='RMSE').fit(baseline_train_pool_R, verbose=False)"
   ]
  },
  {
   "cell_type": "code",
   "execution_count": 35,
   "metadata": {},
   "outputs": [
    {
     "name": "stdout",
     "output_type": "stream",
     "text": [
      "E 2.8585610577072047\n",
      "R 13708.851672438332\n",
      "CPU times: user 1min 14s, sys: 3.04 s, total: 1min 17s\n",
      "Wall time: 3.52 s\n"
     ]
    }
   ],
   "source": [
    "print('E',baseline_model_E.score(baseline_train_pool_E))\n",
    "print('R',baseline_model_E.score(baseline_train_pool_R))"
   ]
  },
  {
   "cell_type": "code",
   "execution_count": 36,
   "metadata": {
    "scrolled": true
   },
   "outputs": [
    {
     "data": {
      "text/plain": [
       "<matplotlib.collections.PathCollection at 0x7f954c0f6160>"
      ]
     },
     "execution_count": 36,
     "metadata": {},
     "output_type": "execute_result"
    },
    {
     "data": {
      "image/png": "[encoded data removed]",
      "text/plain": [
       "<Figure size 432x288 with 1 Axes>"
      ]
     },
     "metadata": {
      "needs_background": "light"
     },
     "output_type": "display_data"
    }
   ],
   "source": [
    "plt.scatter(true_info['E'].values, baseline_model_E.predict(baseline_train_pool_E))"
   ]
  },
  {
   "cell_type": "code",
   "execution_count": 37,
   "metadata": {
    "scrolled": false
   },
   "outputs": [
    {
     "data": {
      "text/plain": [
       "<matplotlib.collections.PathCollection at 0x7f954c0d2898>"
      ]
     },
     "execution_count": 37,
     "metadata": {},
     "output_type": "execute_result"
    },
    {
     "data": {
      "image/png": "[encoded data removed]",
      "text/plain": [
       "<Figure size 432x288 with 1 Axes>"
      ]
     },
     "metadata": {
      "needs_background": "light"
     },
     "output_type": "display_data"
    }
   ],
   "source": [
    "plt.scatter(true_info['R'].values, baseline_model_R.predict(baseline_train_pool_R))"
   ]
  },
  {
   "cell_type": "markdown",
   "metadata": {},
   "source": [
    "### Model with new features"
   ]
  },
  {
   "cell_type": "code",
   "execution_count": 38,
   "metadata": {},
   "outputs": [],
   "source": [
    "train_pool_E = Pool(X_train.values, \n",
    "                  true_info[\"E\"].values)\n",
    "train_pool_R = Pool(X_train.values, \n",
    "                  true_info[\"R\"].values)"
   ]
  },
  {
   "cell_type": "code",
   "execution_count": 39,
   "metadata": {
    "scrolled": true
   },
   "outputs": [
    {
     "name": "stdout",
     "output_type": "stream",
     "text": [
      "CPU times: user 1min 11s, sys: 3.01 s, total: 1min 14s\n",
      "Wall time: 3.3 s\n"
     ]
    }
   ],
   "source": [
    "%%time\n",
    "model_E = CatBoostRegressor(iterations=300, \n",
    "                          depth=3, \n",
    "                          learning_rate=0.1, \n",
    "                          loss_function='RMSE').fit(train_pool_E, verbose=False)\n",
    "model_R = CatBoostRegressor(iterations=300, \n",
    "                          depth=3, \n",
    "                          learning_rate=0.1, \n",
    "                          loss_function='RMSE').fit(train_pool_R, verbose=False)"
   ]
  },
  {
   "cell_type": "code",
   "execution_count": null,
   "metadata": {},
   "outputs": [],
   "source": [
    "%%time\n",
    "baseline_model_E.fit(baseline_train_pool_E, verbose=False)\n",
    "print('E',baseline_model_E.score(baseline_train_pool_E))\n",
    "\n",
    "\n",
    "baseline_model_R.fit(baseline_train_pool_R, verbose=False)\n",
    "print('R',baseline_model_E.score(baseline_train_pool_R))"
   ]
  },
  {
   "cell_type": "code",
   "execution_count": 45,
   "metadata": {
    "scrolled": true
   },
   "outputs": [
    {
     "name": "stdout",
     "output_type": "stream",
     "text": [
      "E 0.4949287868152263\n",
      "R 722.0733231787132\n"
     ]
    }
   ],
   "source": [
    "print('E', model_E.score(train_pool_E))\n",
    "print('R', model_R.score(train_pool_R))"
   ]
  },
  {
   "cell_type": "code",
   "execution_count": 41,
   "metadata": {
    "scrolled": false
   },
   "outputs": [
    {
     "data": {
      "text/plain": [
       "<matplotlib.collections.PathCollection at 0x7f950ebc4160>"
      ]
     },
     "execution_count": 41,
     "metadata": {},
     "output_type": "execute_result"
    },
    {
     "data": {
      "image/png": "[encoded data removed]",
      "text/plain": [
       "<Figure size 432x288 with 1 Axes>"
      ]
     },
     "metadata": {
      "needs_background": "light"
     },
     "output_type": "display_data"
    }
   ],
   "source": [
    "plt.scatter(true_info['E'].values, model_E.predict(train_pool_E) )"
   ]
  },
  {
   "cell_type": "code",
   "execution_count": 1343,
   "metadata": {},
   "outputs": [
    {
     "data": {
      "text/plain": [
       "array([6.54782103, 4.83202004, 9.67495241, ..., 5.24271781, 6.4276404 ,\n",
       "       5.16112344])"
      ]
     },
     "execution_count": 1343,
     "metadata": {},
     "output_type": "execute_result"
    }
   ],
   "source": [
    "model_E.predict(X_test)"
   ]
  },
  {
   "cell_type": "code",
   "execution_count": 1338,
   "metadata": {},
   "outputs": [
    {
     "ename": "NameError",
     "evalue": "name 'x_test' is not defined",
     "output_type": "error",
     "traceback": [
      "\u001b[0;31m---------------------------------------------------------------------------\u001b[0m",
      "\u001b[0;31mNameError\u001b[0m                                 Traceback (most recent call last)",
      "\u001b[0;32m<ipython-input-1338-17a04c274751>\u001b[0m in \u001b[0;36m<module>\u001b[0;34m\u001b[0m\n\u001b[0;32m----> 1\u001b[0;31m \u001b[0mx_test\u001b[0m\u001b[0;34m\u001b[0m\u001b[0;34m\u001b[0m\u001b[0m\n\u001b[0m",
      "\u001b[0;31mNameError\u001b[0m: name 'x_test' is not defined"
     ]
    }
   ],
   "source": [
    "x_test"
   ]
  },
  {
   "cell_type": "code",
   "execution_count": 43,
   "metadata": {
    "scrolled": false
   },
   "outputs": [
    {
     "data": {
      "text/plain": [
       "<matplotlib.collections.PathCollection at 0x7f954c045dd8>"
      ]
     },
     "execution_count": 43,
     "metadata": {},
     "output_type": "execute_result"
    },
    {
     "data": {
      "image/png": "[encoded data removed]",
      "text/plain": [
       "<Figure size 432x288 with 1 Axes>"
      ]
     },
     "metadata": {
      "needs_background": "light"
     },
     "output_type": "display_data"
    }
   ],
   "source": [
    "plt.scatter(true_info['R'].values, model_R.predict(train_pool_R) )"
   ]
  },
  {
   "cell_type": "code",
   "execution_count": 44,
   "metadata": {
    "scrolled": true
   },
   "outputs": [
    {
     "name": "stdout",
     "output_type": "stream",
     "text": [
      "29.70934924230267\n"
     ]
    }
   ],
   "source": [
    "total_score = model_R.score(train_pool_R)**2 /100000 + model_E.score(train_pool_E)**2 *100\n",
    "print(total_score)"
   ]
  },
  {
   "cell_type": "markdown",
   "metadata": {},
   "source": [
    "### R2"
   ]
  },
  {
   "cell_type": "code",
   "execution_count": 46,
   "metadata": {},
   "outputs": [],
   "source": [
    "from sklearn.metrics import r2_score"
   ]
  },
  {
   "cell_type": "code",
   "execution_count": 55,
   "metadata": {},
   "outputs": [
    {
     "name": "stdout",
     "output_type": "stream",
     "text": [
      "E: 0.013358286713127332\n",
      "R: 0.012112472081515446\n"
     ]
    }
   ],
   "source": [
    "# baseline\n",
    "print('E:',r2_score(true_info[\"E\"].values, baseline_model_E.predict(baseline_train_pool_E)))\n",
    "print('R:', r2_score(true_info[\"R\"].values, baseline_model_R.predict(baseline_train_pool_R)))"
   ]
  },
  {
   "cell_type": "code",
   "execution_count": 50,
   "metadata": {
    "scrolled": true
   },
   "outputs": [
    {
     "name": "stdout",
     "output_type": "stream",
     "text": [
      "E: 0.9704232836768077\n",
      "R: 0.9554926451527069\n"
     ]
    }
   ],
   "source": [
    "# model\n",
    "print('E:',r2_score(true_info[\"E\"].values, model_E.predict(train_pool_E)))\n",
    "print('R:', r2_score(true_info[\"R\"].values, model_R.predict(train_pool_R)))"
   ]
  },
  {
   "cell_type": "code",
   "execution_count": 321,
   "metadata": {
    "scrolled": true
   },
   "outputs": [
    {
     "data": {
      "text/html": [
       "<div>\n",
       "<style scoped>\n",
       "    .dataframe tbody tr th:only-of-type {\n",
       "        vertical-align: middle;\n",
       "    }\n",
       "\n",
       "    .dataframe tbody tr th {\n",
       "        vertical-align: top;\n",
       "    }\n",
       "\n",
       "    .dataframe thead th {\n",
       "        text-align: right;\n",
       "    }\n",
       "</style>\n",
       "<table border=\"1\" class=\"dataframe\">\n",
       "  <thead>\n",
       "    <tr style=\"text-align: right;\">\n",
       "      <th></th>\n",
       "      <th>event</th>\n",
       "      <th>hitTime</th>\n",
       "      <th>pmtID</th>\n",
       "    </tr>\n",
       "  </thead>\n",
       "  <tbody>\n",
       "    <tr>\n",
       "      <th>0</th>\n",
       "      <td>42000</td>\n",
       "      <td>147.795425</td>\n",
       "      <td>8148</td>\n",
       "    </tr>\n",
       "    <tr>\n",
       "      <th>1</th>\n",
       "      <td>42000</td>\n",
       "      <td>69.408455</td>\n",
       "      <td>6882</td>\n",
       "    </tr>\n",
       "    <tr>\n",
       "      <th>2</th>\n",
       "      <td>42000</td>\n",
       "      <td>32.437996</td>\n",
       "      <td>7980</td>\n",
       "    </tr>\n",
       "    <tr>\n",
       "      <th>3</th>\n",
       "      <td>42000</td>\n",
       "      <td>156.244049</td>\n",
       "      <td>3259</td>\n",
       "    </tr>\n",
       "    <tr>\n",
       "      <th>4</th>\n",
       "      <td>42000</td>\n",
       "      <td>30.082300</td>\n",
       "      <td>6061</td>\n",
       "    </tr>\n",
       "  </tbody>\n",
       "</table>\n",
       "</div>"
      ],
      "text/plain": [
       "   event     hitTime  pmtID\n",
       "0  42000  147.795425   8148\n",
       "1  42000   69.408455   6882\n",
       "2  42000   32.437996   7980\n",
       "3  42000  156.244049   3259\n",
       "4  42000   30.082300   6061"
      ]
     },
     "execution_count": 321,
     "metadata": {},
     "output_type": "execute_result"
    }
   ],
   "source": [
    "test_df.head()"
   ]
  },
  {
   "cell_type": "code",
   "execution_count": 322,
   "metadata": {},
   "outputs": [],
   "source": [
    "test_pool_E = Pool(X_test.values)"
   ]
  },
  {
   "cell_type": "code",
   "execution_count": 323,
   "metadata": {},
   "outputs": [],
   "source": [
    "test_pool_R = Pool(X_test.values)"
   ]
  },
  {
   "cell_type": "code",
   "execution_count": 324,
   "metadata": {},
   "outputs": [],
   "source": [
    "test_pred_E = model_E.predict(test_pool_E)\n",
    "test_pred_R = model_R.predict(test_pool_R)"
   ]
  },
  {
   "cell_type": "code",
   "execution_count": 232,
   "metadata": {
    "scrolled": true
   },
   "outputs": [
    {
     "data": {
      "text/html": [
       "<div>\n",
       "<style scoped>\n",
       "    .dataframe tbody tr th:only-of-type {\n",
       "        vertical-align: middle;\n",
       "    }\n",
       "\n",
       "    .dataframe tbody tr th {\n",
       "        vertical-align: top;\n",
       "    }\n",
       "\n",
       "    .dataframe thead th {\n",
       "        text-align: right;\n",
       "    }\n",
       "</style>\n",
       "<table border=\"1\" class=\"dataframe\">\n",
       "  <thead>\n",
       "    <tr style=\"text-align: right;\">\n",
       "      <th></th>\n",
       "      <th>X</th>\n",
       "      <th>Y</th>\n",
       "      <th>Z</th>\n",
       "      <th>unique_pmts</th>\n",
       "      <th>mean_hit_time</th>\n",
       "    </tr>\n",
       "    <tr>\n",
       "      <th>evtID</th>\n",
       "      <th></th>\n",
       "      <th></th>\n",
       "      <th></th>\n",
       "      <th></th>\n",
       "      <th></th>\n",
       "    </tr>\n",
       "  </thead>\n",
       "  <tbody>\n",
       "    <tr>\n",
       "      <th>16000</th>\n",
       "      <td>-0.538896</td>\n",
       "      <td>0.301589</td>\n",
       "      <td>0.507724</td>\n",
       "      <td>4125</td>\n",
       "      <td>3.349956</td>\n",
       "    </tr>\n",
       "    <tr>\n",
       "      <th>16001</th>\n",
       "      <td>0.004258</td>\n",
       "      <td>-1.272360</td>\n",
       "      <td>-0.002918</td>\n",
       "      <td>5858</td>\n",
       "      <td>4.469581</td>\n",
       "    </tr>\n",
       "    <tr>\n",
       "      <th>16002</th>\n",
       "      <td>0.038645</td>\n",
       "      <td>0.354262</td>\n",
       "      <td>0.270740</td>\n",
       "      <td>3435</td>\n",
       "      <td>2.327208</td>\n",
       "    </tr>\n",
       "    <tr>\n",
       "      <th>16003</th>\n",
       "      <td>0.366788</td>\n",
       "      <td>0.147440</td>\n",
       "      <td>-0.070436</td>\n",
       "      <td>6813</td>\n",
       "      <td>2.070033</td>\n",
       "    </tr>\n",
       "    <tr>\n",
       "      <th>16004</th>\n",
       "      <td>-0.861649</td>\n",
       "      <td>0.646005</td>\n",
       "      <td>0.092301</td>\n",
       "      <td>8375</td>\n",
       "      <td>3.070578</td>\n",
       "    </tr>\n",
       "  </tbody>\n",
       "</table>\n",
       "</div>"
      ],
      "text/plain": [
       "              X         Y         Z  unique_pmts  mean_hit_time\n",
       "evtID                                                          \n",
       "16000 -0.538896  0.301589  0.507724         4125       3.349956\n",
       "16001  0.004258 -1.272360 -0.002918         5858       4.469581\n",
       "16002  0.038645  0.354262  0.270740         3435       2.327208\n",
       "16003  0.366788  0.147440 -0.070436         6813       2.070033\n",
       "16004 -0.861649  0.646005  0.092301         8375       3.070578"
      ]
     },
     "execution_count": 232,
     "metadata": {},
     "output_type": "execute_result"
    }
   ],
   "source": [
    "X_test.head()"
   ]
  },
  {
   "cell_type": "code",
   "execution_count": 246,
   "metadata": {},
   "outputs": [
    {
     "data": {
      "text/html": [
       "<div>\n",
       "<style scoped>\n",
       "    .dataframe tbody tr th:only-of-type {\n",
       "        vertical-align: middle;\n",
       "    }\n",
       "\n",
       "    .dataframe tbody tr th {\n",
       "        vertical-align: top;\n",
       "    }\n",
       "\n",
       "    .dataframe thead th {\n",
       "        text-align: right;\n",
       "    }\n",
       "</style>\n",
       "<table border=\"1\" class=\"dataframe\">\n",
       "  <thead>\n",
       "    <tr style=\"text-align: right;\">\n",
       "      <th></th>\n",
       "      <th>event</th>\n",
       "      <th>hitTime</th>\n",
       "      <th>isDN</th>\n",
       "      <th>pmtID</th>\n",
       "    </tr>\n",
       "  </thead>\n",
       "  <tbody>\n",
       "    <tr>\n",
       "      <th>0</th>\n",
       "      <td>26000</td>\n",
       "      <td>98.512581</td>\n",
       "      <td>False</td>\n",
       "      <td>16182</td>\n",
       "    </tr>\n",
       "    <tr>\n",
       "      <th>1</th>\n",
       "      <td>26000</td>\n",
       "      <td>29.833193</td>\n",
       "      <td>False</td>\n",
       "      <td>4895</td>\n",
       "    </tr>\n",
       "    <tr>\n",
       "      <th>2</th>\n",
       "      <td>26000</td>\n",
       "      <td>44.804276</td>\n",
       "      <td>False</td>\n",
       "      <td>8485</td>\n",
       "    </tr>\n",
       "    <tr>\n",
       "      <th>3</th>\n",
       "      <td>26000</td>\n",
       "      <td>158.137482</td>\n",
       "      <td>False</td>\n",
       "      <td>10898</td>\n",
       "    </tr>\n",
       "    <tr>\n",
       "      <th>4</th>\n",
       "      <td>26000</td>\n",
       "      <td>315.410309</td>\n",
       "      <td>False</td>\n",
       "      <td>16568</td>\n",
       "    </tr>\n",
       "  </tbody>\n",
       "</table>\n",
       "</div>"
      ],
      "text/plain": [
       "   event     hitTime   isDN  pmtID\n",
       "0  26000   98.512581  False  16182\n",
       "1  26000   29.833193  False   4895\n",
       "2  26000   44.804276  False   8485\n",
       "3  26000  158.137482  False  10898\n",
       "4  26000  315.410309  False  16568"
      ]
     },
     "execution_count": 246,
     "metadata": {},
     "output_type": "execute_result"
    }
   ],
   "source": [
    "lpmt_hits.head()"
   ]
  },
  {
   "cell_type": "code",
   "execution_count": 263,
   "metadata": {
    "scrolled": true
   },
   "outputs": [
    {
     "data": {
      "text/html": [
       "<div>\n",
       "<style scoped>\n",
       "    .dataframe tbody tr th:only-of-type {\n",
       "        vertical-align: middle;\n",
       "    }\n",
       "\n",
       "    .dataframe tbody tr th {\n",
       "        vertical-align: top;\n",
       "    }\n",
       "\n",
       "    .dataframe thead th {\n",
       "        text-align: right;\n",
       "    }\n",
       "</style>\n",
       "<table border=\"1\" class=\"dataframe\">\n",
       "  <thead>\n",
       "    <tr style=\"text-align: right;\">\n",
       "      <th></th>\n",
       "      <th>R</th>\n",
       "      <th>E</th>\n",
       "    </tr>\n",
       "    <tr>\n",
       "      <th>evtID</th>\n",
       "      <th></th>\n",
       "      <th></th>\n",
       "    </tr>\n",
       "  </thead>\n",
       "  <tbody>\n",
       "    <tr>\n",
       "      <th>42000</th>\n",
       "      <td>13359.792436</td>\n",
       "      <td>5.455857</td>\n",
       "    </tr>\n",
       "    <tr>\n",
       "      <th>42001</th>\n",
       "      <td>12842.437275</td>\n",
       "      <td>5.322416</td>\n",
       "    </tr>\n",
       "    <tr>\n",
       "      <th>42002</th>\n",
       "      <td>13271.597981</td>\n",
       "      <td>5.665275</td>\n",
       "    </tr>\n",
       "    <tr>\n",
       "      <th>42003</th>\n",
       "      <td>13416.157125</td>\n",
       "      <td>5.571443</td>\n",
       "    </tr>\n",
       "    <tr>\n",
       "      <th>42004</th>\n",
       "      <td>13116.816491</td>\n",
       "      <td>5.450637</td>\n",
       "    </tr>\n",
       "  </tbody>\n",
       "</table>\n",
       "</div>"
      ],
      "text/plain": [
       "                  R         E\n",
       "evtID                        \n",
       "42000  13359.792436  5.455857\n",
       "42001  12842.437275  5.322416\n",
       "42002  13271.597981  5.665275\n",
       "42003  13416.157125  5.571443\n",
       "42004  13116.816491  5.450637"
      ]
     },
     "execution_count": 263,
     "metadata": {},
     "output_type": "execute_result"
    }
   ],
   "source": [
    "solution = pd.DataFrame({'R':test_pred_R,'E':test_pred_E}, index=test_l_hits.event.unique())\n",
    "solution.index.names = ['evtID']\n",
    "solution.head()"
   ]
  },
  {
   "cell_type": "code",
   "execution_count": 264,
   "metadata": {},
   "outputs": [],
   "source": [
    "solution.to_csv('solution.csv')"
   ]
  },
  {
   "cell_type": "code",
   "execution_count": 331,
   "metadata": {},
   "outputs": [],
   "source": []
  },
  {
   "cell_type": "markdown",
   "metadata": {},
   "source": [
    "## Torch NN"
   ]
  },
  {
   "cell_type": "markdown",
   "metadata": {},
   "source": [
    "4 layers with 100 neurons each\n",
    "\n",
    "4 inputs: \n",
    "- $N_{p.e.}$(LPMT)\n",
    "- mean $1^{st}$ hit time\n",
    "- center-of-hits R-component\n",
    "- center-of-hits Z-component\n",
    "\n",
    "2 outputs:\n",
    "- E\n",
    "- R"
   ]
  },
  {
   "cell_type": "code",
   "execution_count": null,
   "metadata": {},
   "outputs": [],
   "source": [
    "from sklearn.model_selection import train_test_split\n",
    "from sklearn.metrics import mean_squared_error"
   ]
  },
  {
   "cell_type": "code",
   "execution_count": 452,
   "metadata": {},
   "outputs": [],
   "source": [
    "def get_integral_features(lpmt_hits, spmt_hits, pos, time=None):\n",
    "    \"\"\"\n",
    "    Calculate and returns features: meanX, meanY, meanZ, R, meanTime, number of hits in event\n",
    "    \"\"\"\n",
    "    merged_hits = pd.merge(lpmt_hits, pos, left_on='pmtID', right_on='pmt_id')\n",
    "    \n",
    "    means = merged_hits.groupby('event').mean()\n",
    "    cohX = means['pmt_x']\n",
    "    cohY = means['pmt_y']\n",
    "    cohZ = means['pmt_z']\n",
    "    \n",
    "    if time == 'min':\n",
    "        mins = merged_hits.groupby(['event', 'pmt_id']).min()['hitTime']\n",
    "        cohT = mins.groupby('event').mean()\n",
    "    else:\n",
    "        cohT = means['hitTime']\n",
    "    count = merged_hits.groupby('event')['hitTime'].count()\n",
    "        \n",
    "    approxR = np.sqrt(cohX**2 + cohY**2 + cohZ**2)\n",
    "    \n",
    "    return pd.DataFrame({'cohX':cohX.values, \n",
    "                         'cohY':cohY.values, \n",
    "                         'cohZ':cohZ.values, \n",
    "                         'cohT': cohT.values, \n",
    "                         'approxR': approxR.values,\n",
    "                         'lpmtcount': count.values})"
   ]
  },
  {
   "cell_type": "code",
   "execution_count": 454,
   "metadata": {},
   "outputs": [],
   "source": [
    "train_integral = get_integral_features(lpmt_hits, spmt_hits, pmts_pos)"
   ]
  },
  {
   "cell_type": "code",
   "execution_count": 455,
   "metadata": {
    "scrolled": true
   },
   "outputs": [
    {
     "data": {
      "text/plain": [
       "(16000, 6)"
      ]
     },
     "execution_count": 455,
     "metadata": {},
     "output_type": "execute_result"
    }
   ],
   "source": [
    "train_integral.shape"
   ]
  },
  {
   "cell_type": "code",
   "execution_count": 1013,
   "metadata": {},
   "outputs": [],
   "source": [
    "X = features.iloc[:split_events]\n",
    "# X = train_integral\n",
    "y = pd.DataFrame({'E':true_info[\"E\"].values, 'R':true_info[\"R\"].values})\n",
    "Test_x = features.iloc[split_events:]"
   ]
  },
  {
   "cell_type": "code",
   "execution_count": 1014,
   "metadata": {},
   "outputs": [
    {
     "data": {
      "text/plain": [
       "((16000, 5), (16000, 2), (5000, 5))"
      ]
     },
     "execution_count": 1014,
     "metadata": {},
     "output_type": "execute_result"
    }
   ],
   "source": [
    "Train_x.shape, Train_y.shape, Test_x.shape"
   ]
  },
  {
   "cell_type": "code",
   "execution_count": 769,
   "metadata": {},
   "outputs": [],
   "source": [
    "import torch\n",
    "import torch.nn as nn\n",
    "import torch.nn.functional as F"
   ]
  },
  {
   "cell_type": "code",
   "execution_count": 770,
   "metadata": {},
   "outputs": [
    {
     "data": {
      "text/plain": [
       "'1.0.1.post2'"
      ]
     },
     "execution_count": 770,
     "metadata": {},
     "output_type": "execute_result"
    }
   ],
   "source": [
    "torch.__version__"
   ]
  },
  {
   "cell_type": "code",
   "execution_count": 771,
   "metadata": {},
   "outputs": [
    {
     "data": {
      "text/plain": [
       "(16000, 4)"
      ]
     },
     "execution_count": 771,
     "metadata": {},
     "output_type": "execute_result"
    }
   ],
   "source": [
    "base_train.shape"
   ]
  },
  {
   "cell_type": "code",
   "execution_count": 1341,
   "metadata": {},
   "outputs": [],
   "source": [
    "X_train, X_test, y_train, y_test = train_test_split(X, y, test_size=0.2, random_state = 42)\n",
    "\n",
    "X_train, X_val, y_train, y_val = train_test_split(X_train, y_train, test_size=0.2, random_state=42)"
   ]
  },
  {
   "cell_type": "raw",
   "metadata": {},
   "source": [
    "Плохо предсказывает R"
   ]
  },
  {
   "cell_type": "raw",
   "metadata": {},
   "source": [
    "\n",
    "def init_weights(m):\n",
    "    if type(m) == nn.Linear:\n",
    "        torch.nn.init.xavier_normal_(m.weight)\n",
    "#         m.bias.data.fill_(0.01)\n",
    "\n",
    "# Create a model\n",
    "model = nn.Sequential(nn.Linear(n_in, n_h),\n",
    "                     nn.ReLU(),\n",
    "                     nn.Linear(n_h, n_h),\n",
    "                     nn.ReLU(),\n",
    "                     nn.Linear(n_h, n_h),\n",
    "                     nn.ReLU(),\n",
    "                     nn.Linear(n_h, n_h),\n",
    "                     nn.ReLU(),\n",
    "                     nn.Linear(n_h, n_h),\n",
    "                     nn.ReLU(),\n",
    "                     nn.Linear(n_h, n_out),\n",
    "                     )\n",
    "print(model)\n",
    "\n",
    "\n",
    "model.apply(init_weights)\n",
    "\n",
    "\n",
    "compute_loss = torch.nn.MSELoss()\n",
    "# optimizer = torch.optim.SGD(model.parameters(), lr=1e-6)\n",
    "optimizer = torch.optim.Adam(model.parameters(), lr=1e-5)\n",
    "\n",
    "train_loss = []\n",
    "val_loss = []\n",
    "for epoch in range(200):\n",
    "    y_pred = model(X_train_tensor)\n",
    "    loss = compute_loss(y_train_tensor, y_pred)\n",
    "    print(epoch, loss.item())    \n",
    "    \n",
    "    loss.backward()\n",
    "    optimizer.step()\n",
    "    optimizer.zero_grad()\n",
    "    train_loss.append(loss.cpu().data.numpy())\n",
    "    \n",
    "    if epoch % 3 == 0:\n",
    "        y_pred = model(X_val_tensor)\n",
    "        loss_val = compute_loss(y_val_tensor, y_pred)\n",
    "        val_loss.append(loss_val.cpu().data.numpy())"
   ]
  },
  {
   "cell_type": "code",
   "execution_count": 936,
   "metadata": {},
   "outputs": [
    {
     "data": {
      "text/plain": [
       "(16000, 2)"
      ]
     },
     "execution_count": 936,
     "metadata": {},
     "output_type": "execute_result"
    }
   ],
   "source": [
    "y.shape"
   ]
  },
  {
   "cell_type": "code",
   "execution_count": 1392,
   "metadata": {},
   "outputs": [],
   "source": [
    "def run_network(X, y, predict_E=True, predict_R=True, random_state=42, num_epochs=200, verbose=False):\n",
    "    to_scale=False\n",
    "    X_data = X.copy()\n",
    "    y_data = y.copy()\n",
    "    if predict_E and predict_R:\n",
    "        to_scale=True\n",
    "    elif predict_E:\n",
    "        y_data = y_data[['E']]\n",
    "    elif predict_R:\n",
    "        y_data = y_data[['R']]\n",
    "        to_scale=True\n",
    "        \n",
    "    X_train, X_test, y_train, y_test = train_test_split(X_data, y_data, test_size=0.2, random_state=random_state)\n",
    "    X_train, X_val, y_train, y_val = train_test_split(X_train, y_train, test_size=0.2, random_state=random_state)\n",
    "    \n",
    "    X_train_tensor = torch.from_numpy(X_train.values).type('torch.FloatTensor')\n",
    "    X_val_tensor = torch.from_numpy(X_val.values).type('torch.FloatTensor')\n",
    "    X_test_tensor = torch.from_numpy(X_test.values).type('torch.FloatTensor')\n",
    "    \n",
    "    \n",
    "    scaler = StandardScaler()\n",
    "    if to_scale:\n",
    "        y_train_tensor = torch.from_numpy(scaler.fit_transform(y_train)).type('torch.FloatTensor')\n",
    "        y_val_tensor = torch.from_numpy(scaler.transform(y_val)).type('torch.FloatTensor')\n",
    "        y_test_tensor = torch.from_numpy(scaler.transform(y_test)).type('torch.FloatTensor')\n",
    "    else:\n",
    "        y_train_tensor = torch.from_numpy(y_train.values).type('torch.FloatTensor')\n",
    "        y_val_tensor = torch.from_numpy(y_val.values).type('torch.FloatTensor')\n",
    "        y_test_tensor = torch.from_numpy(y_test.values).type('torch.FloatTensor')\n",
    "        \n",
    "    n_in, n_h, n_out = X_train.shape[1], 100, y_train.shape[1]\n",
    "    \n",
    "    \n",
    "    \n",
    "    def init_weights(m):\n",
    "        if type(m) == nn.Linear:\n",
    "            torch.nn.init.xavier_normal_(m.weight)\n",
    "            m.bias.data.fill_(0.01)\n",
    "\n",
    "    # Create a model\n",
    "    model = nn.Sequential(nn.Linear(n_in, n_h),\n",
    "                         nn.ReLU(),\n",
    "                         nn.Linear(n_h, n_h),\n",
    "                         nn.ReLU(),\n",
    "                         nn.Linear(n_h, n_h),\n",
    "                         nn.ReLU(),\n",
    "                         nn.Linear(n_h, n_h),\n",
    "                         nn.ReLU(),\n",
    "                         nn.Linear(n_h, n_h),\n",
    "                         nn.ReLU(),\n",
    "                         nn.Linear(n_h, int(n_h/2)),\n",
    "                         nn.Linear(int(n_h/2), n_out),\n",
    "                         )\n",
    "    if verbose:\n",
    "        print(model)\n",
    "\n",
    "\n",
    "    model.apply(init_weights)\n",
    "\n",
    "\n",
    "    compute_loss = torch.nn.MSELoss()\n",
    "#     optimizer = torch.optim.SGD(model.parameters(), lr=1e-6, momentum=0.9)\n",
    "    optimizer = torch.optim.Adam(model.parameters(), lr=1e-5)\n",
    "\n",
    "    train_loss = []\n",
    "    val_loss = []\n",
    "    for epoch in range(num_epochs):\n",
    "        y_pred = model(X_train_tensor)\n",
    "        loss = compute_loss(y_train_tensor, y_pred)\n",
    "        if verbose:\n",
    "            print(epoch, loss.item())   \n",
    "        \n",
    "#         if loss.item() < 1.3:\n",
    "#             break\n",
    "\n",
    "        loss.backward()\n",
    "        optimizer.step()\n",
    "        optimizer.zero_grad()\n",
    "        train_loss.append(loss.cpu().data.numpy())\n",
    "\n",
    "        if epoch % 3 == 0:\n",
    "            y_pred = model(X_val_tensor)\n",
    "            loss_val = compute_loss(y_val_tensor, y_pred)\n",
    "            val_loss.append(loss_val.cpu().data.numpy())\n",
    "            \n",
    "    return model, X_test_tensor, y_test_tensor, y_test, scaler"
   ]
  },
  {
   "cell_type": "code",
   "execution_count": 1331,
   "metadata": {},
   "outputs": [
    {
     "name": "stdout",
     "output_type": "stream",
     "text": [
      "Loss: 38.153026647735466\n",
      "R2: -173.62842566556728\n"
     ]
    },
    {
     "data": {
      "image/png": "[encoded data removed]",
      "text/plain": [
       "<Figure size 720x720 with 1 Axes>"
      ]
     },
     "metadata": {
      "needs_background": "light"
     },
     "output_type": "display_data"
    }
   ],
   "source": [
    "model, X_test_tensor, y_test_tensor, t_test, scaler = run_network(X,y, predict_E=True, predict_R=False, num_epochs=50)\n",
    "\n",
    "prediction = model(X_test_tensor)\n",
    "prediction_df = pd.DataFrame(prediction.detach().numpy())\n",
    "print('Loss:', np.sqrt(compute_loss(y_test_tensor, prediction).item()))\n",
    "print('R2:',r2_score(y_test_tensor.detach().numpy(), prediction_df.values))\n",
    "# print(scaler.mean_)\n",
    "# real_prediction_df = scaler.inverse_transform(prediction_df)\n",
    "# print('Real error:',mean_squared_error(y_test.iloc[:,0], real_prediction_df.iloc[:,0]))\n",
    "# print(mean_squared_error(y_test.iloc[:,1], real_prediction_df.iloc[:,1]))\n",
    "\n",
    "test_sigmas(model)"
   ]
  },
  {
   "cell_type": "code",
   "execution_count": 1408,
   "metadata": {},
   "outputs": [
    {
     "name": "stdout",
     "output_type": "stream",
     "text": [
      "Sequential(\n",
      "  (0): Linear(in_features=5, out_features=100, bias=True)\n",
      "  (1): ReLU()\n",
      "  (2): Linear(in_features=100, out_features=100, bias=True)\n",
      "  (3): ReLU()\n",
      "  (4): Linear(in_features=100, out_features=100, bias=True)\n",
      "  (5): ReLU()\n",
      "  (6): Linear(in_features=100, out_features=100, bias=True)\n",
      "  (7): ReLU()\n",
      "  (8): Linear(in_features=100, out_features=100, bias=True)\n",
      "  (9): ReLU()\n",
      "  (10): Linear(in_features=100, out_features=50, bias=True)\n",
      "  (11): Linear(in_features=50, out_features=1, bias=True)\n",
      ")\n",
      "0 120333.203125\n",
      "1 117196.2265625\n",
      "2 114102.0390625\n",
      "3 111051.8984375\n",
      "4 108045.828125\n",
      "5 105084.8359375\n",
      "6 102169.296875\n",
      "7 99299.8359375\n",
      "8 96476.9296875\n",
      "9 93700.953125\n",
      "10 90972.46875\n",
      "11 88291.8125\n",
      "12 85659.328125\n",
      "13 83075.1875\n",
      "14 80539.828125\n",
      "15 78053.2109375\n",
      "16 75615.7109375\n",
      "17 73227.3125\n",
      "18 70888.0859375\n",
      "19 68598.09375\n",
      "20 66357.265625\n",
      "21 64187.0625\n",
      "22 62081.73828125\n",
      "23 60013.89453125\n",
      "24 57986.1015625\n",
      "25 55999.90625\n",
      "26 54056.5390625\n",
      "27 52157.8125\n",
      "28 50328.703125\n",
      "29 48547.41796875\n",
      "30 46809.0703125\n",
      "31 45113.62890625\n",
      "32 43460.94921875\n",
      "33 41850.875\n",
      "34 40283.13671875\n",
      "35 38757.47265625\n",
      "36 37273.5\n",
      "37 35830.82421875\n",
      "38 34429.04296875\n",
      "39 33075.00390625\n",
      "40 31765.353515625\n",
      "41 30490.54296875\n",
      "42 29250.63671875\n",
      "43 28046.677734375\n",
      "44 26888.48828125\n",
      "45 25767.767578125\n",
      "46 24681.853515625\n",
      "47 23630.25\n",
      "48 22612.46484375\n",
      "49 21627.96484375\n",
      "50 20676.1796875\n",
      "51 19756.537109375\n",
      "52 18873.23046875\n",
      "53 18022.14453125\n",
      "54 17207.91796875\n",
      "55 16421.42578125\n",
      "56 15664.1689453125\n",
      "57 14937.994140625\n",
      "58 14238.060546875\n",
      "59 13563.796875\n",
      "60 12914.658203125\n",
      "61 12290.3076171875\n",
      "62 11692.3876953125\n",
      "63 11117.603515625\n",
      "64 10565.1201171875\n",
      "65 10052.6611328125\n",
      "66 9562.9326171875\n",
      "67 9092.796875\n",
      "68 8638.892578125\n",
      "69 8203.4423828125\n",
      "70 7784.8984375\n",
      "71 7382.7060546875\n",
      "72 6996.76025390625\n",
      "73 6628.27587890625\n",
      "74 6283.18359375\n",
      "75 5952.8544921875\n",
      "76 5636.2919921875\n",
      "77 5333.16650390625\n",
      "78 5043.2001953125\n",
      "79 4768.6494140625\n",
      "80 4506.26708984375\n",
      "81 4254.85546875\n",
      "82 4014.244873046875\n",
      "83 3784.77490234375\n",
      "84 3568.03759765625\n",
      "85 3361.552001953125\n",
      "86 3164.9013671875\n",
      "87 2977.7763671875\n",
      "88 2799.896240234375\n",
      "89 2630.985595703125\n",
      "90 2471.25048828125\n",
      "91 2320.4453125\n",
      "92 2177.48046875\n",
      "93 2042.9173583984375\n",
      "94 1916.0556640625\n",
      "95 1795.4378662109375\n",
      "96 1680.885009765625\n",
      "97 1572.5111083984375\n",
      "98 1470.045166015625\n",
      "99 1372.9173583984375\n",
      "100 1281.313232421875\n",
      "101 1194.923095703125\n",
      "102 1113.650634765625\n",
      "103 1037.41796875\n",
      "104 965.9739379882812\n",
      "105 898.8937377929688\n",
      "106 835.8502807617188\n",
      "107 776.7482299804688\n",
      "108 721.3073120117188\n",
      "109 669.3109130859375\n",
      "110 620.583251953125\n",
      "111 574.9801025390625\n",
      "112 532.3458862304688\n",
      "113 492.4730529785156\n",
      "114 455.21807861328125\n",
      "115 420.46514892578125\n",
      "116 388.06170654296875\n",
      "117 357.86212158203125\n",
      "118 329.738525390625\n",
      "119 303.5762634277344\n",
      "120 279.2644958496094\n",
      "121 256.69140625\n",
      "122 235.73849487304688\n",
      "123 216.30911254882812\n",
      "124 198.31576538085938\n",
      "125 181.6658477783203\n",
      "126 166.2686309814453\n",
      "127 152.04153442382812\n",
      "128 138.907958984375\n",
      "129 126.79679107666016\n",
      "130 115.63874816894531\n",
      "131 105.36903381347656\n",
      "132 95.92377471923828\n",
      "133 87.24291229248047\n",
      "134 79.27362060546875\n",
      "135 71.96546173095703\n",
      "136 65.26831817626953\n",
      "137 59.13758087158203\n",
      "138 53.529693603515625\n",
      "139 48.40583038330078\n",
      "140 43.72849655151367\n",
      "141 39.46373748779297\n",
      "142 35.578582763671875\n",
      "143 32.04393768310547\n",
      "144 28.831151962280273\n",
      "145 25.914287567138672\n",
      "146 23.269393920898438\n",
      "147 20.874021530151367\n",
      "148 18.707544326782227\n",
      "149 16.750293731689453\n",
      "150 14.98412036895752\n",
      "151 13.39246654510498\n",
      "152 11.959904670715332\n",
      "153 10.672473907470703\n",
      "154 9.51745319366455\n",
      "155 8.481904983520508\n",
      "156 7.55529260635376\n",
      "157 6.727374076843262\n",
      "158 5.988749027252197\n",
      "159 5.330939292907715\n",
      "160 4.746014595031738\n",
      "161 4.226682662963867\n",
      "162 3.7664732933044434\n",
      "163 3.359370470046997\n",
      "164 3.000077724456787\n",
      "165 2.6835293769836426\n",
      "166 2.4050261974334717\n",
      "167 2.160696506500244\n",
      "168 1.9468069076538086\n",
      "169 1.7599270343780518\n",
      "170 1.5971834659576416\n",
      "171 1.4557428359985352\n",
      "172 1.332996129989624\n",
      "173 1.2267388105392456\n",
      "174 1.1412467956542969\n",
      "175 1.0567442178726196\n",
      "176 0.9903491139411926\n",
      "177 0.9334211349487305\n",
      "178 0.8850181698799133\n",
      "179 0.8440737724304199\n",
      "180 0.8096276521682739\n",
      "181 0.7807744741439819\n",
      "182 0.7567855715751648\n",
      "183 0.7369349002838135\n",
      "184 0.7206283211708069\n",
      "185 0.7073642611503601\n",
      "186 0.6966254115104675\n",
      "187 0.6880277395248413\n",
      "188 0.6812662482261658\n",
      "189 0.6760042905807495\n",
      "190 0.6719728708267212\n",
      "191 0.668956995010376\n",
      "192 0.6667833924293518\n",
      "193 0.6652647256851196\n",
      "194 0.6642506718635559\n",
      "195 0.6636324524879456\n",
      "196 0.6633223295211792\n",
      "197 0.6632398366928101\n",
      "198 0.6633063554763794\n",
      "199 0.6634764671325684\n",
      "Loss: 2768.484652466675\n",
      "R2: 0.33367269444731473\n"
     ]
    }
   ],
   "source": [
    "model, X_test_tensor, y_test_tensor, tmp_y_test, scaler = run_network(X,y, predict_E=False, predict_R=True, num_epochs=200, verbose = True)\n",
    "\n",
    "prediction = model(X_test_tensor)\n",
    "prediction_df = pd.DataFrame(prediction.detach().numpy())\n",
    "\n",
    "pred_unscaled = scaler.inverse_transform(prediction_df.values)\n",
    "\n",
    "print('Loss:', np.sqrt(mean_squared_error(tmp_y_test.values, pred_unscaled)))\n",
    "print('R2:',r2_score(tmp_y_test.values, pred_unscaled))"
   ]
  },
  {
   "cell_type": "code",
   "execution_count": 1390,
   "metadata": {},
   "outputs": [
    {
     "name": "stdout",
     "output_type": "stream",
     "text": [
      "Loss: 14041.406\n",
      "R2: -502.6128641644387\n"
     ]
    }
   ],
   "source": [
    "prediction = model(X_test_tensor)\n",
    "prediction_df = pd.DataFrame(prediction.detach().numpy())\n",
    "\n",
    "y_unscaled = scaler.inverse_transform(prediction_df.values)\n",
    "print('Loss:', np.sqrt(mean_squared_error(y_unscaled, prediction_df.values)))\n",
    "print('R2:',r2_score(y_unscaled, prediction_df.values))"
   ]
  },
  {
   "cell_type": "code",
   "execution_count": 1384,
   "metadata": {},
   "outputs": [
    {
     "data": {
      "text/plain": [
       "tensor([[-0.2025],\n",
       "        [ 0.1522],\n",
       "        [ 0.5525],\n",
       "        ...,\n",
       "        [ 0.2040],\n",
       "        [ 0.3215],\n",
       "        [ 0.2002]], grad_fn=<AddmmBackward>)"
      ]
     },
     "execution_count": 1384,
     "metadata": {},
     "output_type": "execute_result"
    }
   ],
   "source": [
    "prediction"
   ]
  },
  {
   "cell_type": "code",
   "execution_count": 1373,
   "metadata": {},
   "outputs": [
    {
     "data": {
      "text/plain": [
       "array([[17674.059 ],\n",
       "       [13551.156 ],\n",
       "       [ 6229.9243],\n",
       "       ...,\n",
       "       [12349.565 ],\n",
       "       [13693.198 ],\n",
       "       [14977.674 ]], dtype=float32)"
      ]
     },
     "execution_count": 1373,
     "metadata": {},
     "output_type": "execute_result"
    }
   ],
   "source": [
    "y_test_tensor.detach().numpy()"
   ]
  },
  {
   "cell_type": "code",
   "execution_count": 1360,
   "metadata": {},
   "outputs": [
    {
     "data": {
      "text/plain": [
       "Text(0.5, 1.0, 'Integral model')"
      ]
     },
     "execution_count": 1360,
     "metadata": {},
     "output_type": "execute_result"
    },
    {
     "data": {
      "image/png": "[encoded data removed]",
      "text/plain": [
       "<Figure size 720x720 with 1 Axes>"
      ]
     },
     "metadata": {
      "needs_background": "light"
     },
     "output_type": "display_data"
    }
   ],
   "source": [
    "test_sigmas(model)\n",
    "plt.title('Integral model')"
   ]
  },
  {
   "cell_type": "code",
   "execution_count": 1367,
   "metadata": {
    "scrolled": true
   },
   "outputs": [
    {
     "data": {
      "text/plain": [
       "[<matplotlib.lines.Line2D at 0x7f9958ce2e80>]"
      ]
     },
     "execution_count": 1367,
     "metadata": {},
     "output_type": "execute_result"
    },
    {
     "data": {
      "image/png": "[encoded data removed]",
      "text/plain": [
       "<Figure size 504x360 with 1 Axes>"
      ]
     },
     "metadata": {
      "needs_background": "light"
     },
     "output_type": "display_data"
    }
   ],
   "source": [
    "plt.figure( figsize=(7,5))\n",
    "plt.plot(train_loss)\n",
    "plt.plot(val_loss)"
   ]
  },
  {
   "cell_type": "code",
   "execution_count": 1187,
   "metadata": {},
   "outputs": [
    {
     "data": {
      "text/plain": [
       "(3200, 1)"
      ]
     },
     "execution_count": 1187,
     "metadata": {},
     "output_type": "execute_result"
    }
   ],
   "source": [
    "preds.shape"
   ]
  },
  {
   "cell_type": "code",
   "execution_count": 1192,
   "metadata": {},
   "outputs": [],
   "source": [
    "y_test_set = y_test['E'].values\n",
    "preds = prediction.detach().numpy().reshape((-1))\n",
    "df = pd.DataFrame({\"y_test\":y_test_set, \"prop\": (preds/y_test_set)})"
   ]
  },
  {
   "cell_type": "code",
   "execution_count": 1193,
   "metadata": {},
   "outputs": [
    {
     "name": "stderr",
     "output_type": "stream",
     "text": [
      "/mnt/vlopatkin/anaconda3/lib/python3.7/site-packages/scipy/stats/stats.py:1713: FutureWarning: Using a non-tuple sequence for multidimensional indexing is deprecated; use `arr[tuple(seq)]` instead of `arr[seq]`. In the future this will be interpreted as an array index, `arr[np.array(seq)]`, which will result either in an error or a different result.\n",
      "  return np.add.reduce(sorted[indexer] * weights, axis=axis) / sumval\n"
     ]
    },
    {
     "data": {
      "text/plain": [
       "<seaborn.axisgrid.JointGrid at 0x7f90f1fbb080>"
      ]
     },
     "execution_count": 1193,
     "metadata": {},
     "output_type": "execute_result"
    },
    {
     "data": {
      "image/png": "[encoded data removed]",
      "text/plain": [
       "<Figure size 432x432 with 3 Axes>"
      ]
     },
     "metadata": {
      "needs_background": "light"
     },
     "output_type": "display_data"
    }
   ],
   "source": [
    "sns.jointplot(x=\"y_test\", y=\"prop\", data=df)"
   ]
  },
  {
   "cell_type": "code",
   "execution_count": 979,
   "metadata": {},
   "outputs": [
    {
     "name": "stdout",
     "output_type": "stream",
     "text": [
      "Loss: 1.7270293235778809\n",
      "R2: 0.7798219317036411\n"
     ]
    }
   ],
   "source": [
    "prediction = model(X_test_tensor)\n",
    "print('Loss:',compute_loss(y_test_tensor, prediction).item())\n",
    "print('R2:',r2_score(y_test_tensor.detach().numpy(), prediction_df.values))\n",
    "# print(scaler.mean_)\n",
    "prediction_df = pd.DataFrame(prediction.detach().numpy())\n",
    "# real_prediction_df = scaler.inverse_transform(prediction_df)\n",
    "# print('Real error:',mean_squared_error(y_test.iloc[:,0], real_prediction_df.iloc[:,0]))\n",
    "# print(mean_squared_error(y_test.iloc[:,1], real_prediction_df.iloc[:,1]))"
   ]
  },
  {
   "cell_type": "code",
   "execution_count": 1164,
   "metadata": {
    "collapsed": true
   },
   "outputs": [
    {
     "data": {
      "text/html": [
       "<div>\n",
       "<style scoped>\n",
       "    .dataframe tbody tr th:only-of-type {\n",
       "        vertical-align: middle;\n",
       "    }\n",
       "\n",
       "    .dataframe tbody tr th {\n",
       "        vertical-align: top;\n",
       "    }\n",
       "\n",
       "    .dataframe thead th {\n",
       "        text-align: right;\n",
       "    }\n",
       "</style>\n",
       "<table border=\"1\" class=\"dataframe\">\n",
       "  <thead>\n",
       "    <tr style=\"text-align: right;\">\n",
       "      <th></th>\n",
       "      <th>0</th>\n",
       "    </tr>\n",
       "  </thead>\n",
       "  <tbody>\n",
       "    <tr>\n",
       "      <th>0</th>\n",
       "      <td>2.900078</td>\n",
       "    </tr>\n",
       "    <tr>\n",
       "      <th>1</th>\n",
       "      <td>4.071770</td>\n",
       "    </tr>\n",
       "    <tr>\n",
       "      <th>2</th>\n",
       "      <td>9.816216</td>\n",
       "    </tr>\n",
       "    <tr>\n",
       "      <th>3</th>\n",
       "      <td>4.672379</td>\n",
       "    </tr>\n",
       "    <tr>\n",
       "      <th>4</th>\n",
       "      <td>3.827202</td>\n",
       "    </tr>\n",
       "    <tr>\n",
       "      <th>5</th>\n",
       "      <td>7.802971</td>\n",
       "    </tr>\n",
       "    <tr>\n",
       "      <th>6</th>\n",
       "      <td>7.280159</td>\n",
       "    </tr>\n",
       "    <tr>\n",
       "      <th>7</th>\n",
       "      <td>2.634278</td>\n",
       "    </tr>\n",
       "    <tr>\n",
       "      <th>8</th>\n",
       "      <td>9.429513</td>\n",
       "    </tr>\n",
       "    <tr>\n",
       "      <th>9</th>\n",
       "      <td>4.814415</td>\n",
       "    </tr>\n",
       "    <tr>\n",
       "      <th>10</th>\n",
       "      <td>9.056344</td>\n",
       "    </tr>\n",
       "    <tr>\n",
       "      <th>11</th>\n",
       "      <td>9.253823</td>\n",
       "    </tr>\n",
       "    <tr>\n",
       "      <th>12</th>\n",
       "      <td>4.371102</td>\n",
       "    </tr>\n",
       "    <tr>\n",
       "      <th>13</th>\n",
       "      <td>8.267205</td>\n",
       "    </tr>\n",
       "    <tr>\n",
       "      <th>14</th>\n",
       "      <td>3.388276</td>\n",
       "    </tr>\n",
       "    <tr>\n",
       "      <th>15</th>\n",
       "      <td>7.973137</td>\n",
       "    </tr>\n",
       "    <tr>\n",
       "      <th>16</th>\n",
       "      <td>8.507562</td>\n",
       "    </tr>\n",
       "    <tr>\n",
       "      <th>17</th>\n",
       "      <td>3.932595</td>\n",
       "    </tr>\n",
       "    <tr>\n",
       "      <th>18</th>\n",
       "      <td>7.768090</td>\n",
       "    </tr>\n",
       "    <tr>\n",
       "      <th>19</th>\n",
       "      <td>1.907158</td>\n",
       "    </tr>\n",
       "    <tr>\n",
       "      <th>20</th>\n",
       "      <td>7.245858</td>\n",
       "    </tr>\n",
       "    <tr>\n",
       "      <th>21</th>\n",
       "      <td>8.224893</td>\n",
       "    </tr>\n",
       "    <tr>\n",
       "      <th>22</th>\n",
       "      <td>5.531701</td>\n",
       "    </tr>\n",
       "    <tr>\n",
       "      <th>23</th>\n",
       "      <td>2.097672</td>\n",
       "    </tr>\n",
       "    <tr>\n",
       "      <th>24</th>\n",
       "      <td>6.056305</td>\n",
       "    </tr>\n",
       "    <tr>\n",
       "      <th>25</th>\n",
       "      <td>2.288331</td>\n",
       "    </tr>\n",
       "    <tr>\n",
       "      <th>26</th>\n",
       "      <td>4.703080</td>\n",
       "    </tr>\n",
       "    <tr>\n",
       "      <th>27</th>\n",
       "      <td>3.648247</td>\n",
       "    </tr>\n",
       "    <tr>\n",
       "      <th>28</th>\n",
       "      <td>6.091958</td>\n",
       "    </tr>\n",
       "    <tr>\n",
       "      <th>29</th>\n",
       "      <td>2.258137</td>\n",
       "    </tr>\n",
       "    <tr>\n",
       "      <th>...</th>\n",
       "      <td>...</td>\n",
       "    </tr>\n",
       "    <tr>\n",
       "      <th>3170</th>\n",
       "      <td>5.700356</td>\n",
       "    </tr>\n",
       "    <tr>\n",
       "      <th>3171</th>\n",
       "      <td>6.399926</td>\n",
       "    </tr>\n",
       "    <tr>\n",
       "      <th>3172</th>\n",
       "      <td>7.109459</td>\n",
       "    </tr>\n",
       "    <tr>\n",
       "      <th>3173</th>\n",
       "      <td>3.667641</td>\n",
       "    </tr>\n",
       "    <tr>\n",
       "      <th>3174</th>\n",
       "      <td>6.356003</td>\n",
       "    </tr>\n",
       "    <tr>\n",
       "      <th>3175</th>\n",
       "      <td>8.003976</td>\n",
       "    </tr>\n",
       "    <tr>\n",
       "      <th>3176</th>\n",
       "      <td>1.537636</td>\n",
       "    </tr>\n",
       "    <tr>\n",
       "      <th>3177</th>\n",
       "      <td>6.612153</td>\n",
       "    </tr>\n",
       "    <tr>\n",
       "      <th>3178</th>\n",
       "      <td>7.844124</td>\n",
       "    </tr>\n",
       "    <tr>\n",
       "      <th>3179</th>\n",
       "      <td>5.205018</td>\n",
       "    </tr>\n",
       "    <tr>\n",
       "      <th>3180</th>\n",
       "      <td>6.955025</td>\n",
       "    </tr>\n",
       "    <tr>\n",
       "      <th>3181</th>\n",
       "      <td>3.802346</td>\n",
       "    </tr>\n",
       "    <tr>\n",
       "      <th>3182</th>\n",
       "      <td>8.660806</td>\n",
       "    </tr>\n",
       "    <tr>\n",
       "      <th>3183</th>\n",
       "      <td>2.160645</td>\n",
       "    </tr>\n",
       "    <tr>\n",
       "      <th>3184</th>\n",
       "      <td>2.731644</td>\n",
       "    </tr>\n",
       "    <tr>\n",
       "      <th>3185</th>\n",
       "      <td>6.952614</td>\n",
       "    </tr>\n",
       "    <tr>\n",
       "      <th>3186</th>\n",
       "      <td>1.981360</td>\n",
       "    </tr>\n",
       "    <tr>\n",
       "      <th>3187</th>\n",
       "      <td>8.653298</td>\n",
       "    </tr>\n",
       "    <tr>\n",
       "      <th>3188</th>\n",
       "      <td>5.293572</td>\n",
       "    </tr>\n",
       "    <tr>\n",
       "      <th>3189</th>\n",
       "      <td>3.602684</td>\n",
       "    </tr>\n",
       "    <tr>\n",
       "      <th>3190</th>\n",
       "      <td>4.295609</td>\n",
       "    </tr>\n",
       "    <tr>\n",
       "      <th>3191</th>\n",
       "      <td>4.230896</td>\n",
       "    </tr>\n",
       "    <tr>\n",
       "      <th>3192</th>\n",
       "      <td>4.810189</td>\n",
       "    </tr>\n",
       "    <tr>\n",
       "      <th>3193</th>\n",
       "      <td>3.209080</td>\n",
       "    </tr>\n",
       "    <tr>\n",
       "      <th>3194</th>\n",
       "      <td>7.977013</td>\n",
       "    </tr>\n",
       "    <tr>\n",
       "      <th>3195</th>\n",
       "      <td>5.487557</td>\n",
       "    </tr>\n",
       "    <tr>\n",
       "      <th>3196</th>\n",
       "      <td>7.146172</td>\n",
       "    </tr>\n",
       "    <tr>\n",
       "      <th>3197</th>\n",
       "      <td>5.229760</td>\n",
       "    </tr>\n",
       "    <tr>\n",
       "      <th>3198</th>\n",
       "      <td>6.320260</td>\n",
       "    </tr>\n",
       "    <tr>\n",
       "      <th>3199</th>\n",
       "      <td>4.422326</td>\n",
       "    </tr>\n",
       "  </tbody>\n",
       "</table>\n",
       "<p>3200 rows × 1 columns</p>\n",
       "</div>"
      ],
      "text/plain": [
       "             0\n",
       "0     2.900078\n",
       "1     4.071770\n",
       "2     9.816216\n",
       "3     4.672379\n",
       "4     3.827202\n",
       "5     7.802971\n",
       "6     7.280159\n",
       "7     2.634278\n",
       "8     9.429513\n",
       "9     4.814415\n",
       "10    9.056344\n",
       "11    9.253823\n",
       "12    4.371102\n",
       "13    8.267205\n",
       "14    3.388276\n",
       "15    7.973137\n",
       "16    8.507562\n",
       "17    3.932595\n",
       "18    7.768090\n",
       "19    1.907158\n",
       "20    7.245858\n",
       "21    8.224893\n",
       "22    5.531701\n",
       "23    2.097672\n",
       "24    6.056305\n",
       "25    2.288331\n",
       "26    4.703080\n",
       "27    3.648247\n",
       "28    6.091958\n",
       "29    2.258137\n",
       "...        ...\n",
       "3170  5.700356\n",
       "3171  6.399926\n",
       "3172  7.109459\n",
       "3173  3.667641\n",
       "3174  6.356003\n",
       "3175  8.003976\n",
       "3176  1.537636\n",
       "3177  6.612153\n",
       "3178  7.844124\n",
       "3179  5.205018\n",
       "3180  6.955025\n",
       "3181  3.802346\n",
       "3182  8.660806\n",
       "3183  2.160645\n",
       "3184  2.731644\n",
       "3185  6.952614\n",
       "3186  1.981360\n",
       "3187  8.653298\n",
       "3188  5.293572\n",
       "3189  3.602684\n",
       "3190  4.295609\n",
       "3191  4.230896\n",
       "3192  4.810189\n",
       "3193  3.209080\n",
       "3194  7.977013\n",
       "3195  5.487557\n",
       "3196  7.146172\n",
       "3197  5.229760\n",
       "3198  6.320260\n",
       "3199  4.422326\n",
       "\n",
       "[3200 rows x 1 columns]"
      ]
     },
     "execution_count": 1164,
     "metadata": {},
     "output_type": "execute_result"
    }
   ],
   "source": [
    "prediction_df"
   ]
  },
  {
   "cell_type": "code",
   "execution_count": 1202,
   "metadata": {},
   "outputs": [
    {
     "data": {
      "text/plain": [
       "1.3621918847590246"
      ]
     },
     "execution_count": 1202,
     "metadata": {},
     "output_type": "execute_result"
    }
   ],
   "source": [
    "mean_squared_error(preds, y_test_set)"
   ]
  },
  {
   "cell_type": "markdown",
   "metadata": {},
   "source": [
    "R"
   ]
  },
  {
   "cell_type": "code",
   "execution_count": null,
   "metadata": {},
   "outputs": [],
   "source": [
    "R_model = model"
   ]
  },
  {
   "cell_type": "code",
   "execution_count": 950,
   "metadata": {
    "collapsed": true
   },
   "outputs": [
    {
     "name": "stdout",
     "output_type": "stream",
     "text": [
      "1.7390071153640747\n"
     ]
    },
    {
     "ename": "NotFittedError",
     "evalue": "This StandardScaler instance is not fitted yet. Call 'fit' with appropriate arguments before using this method.",
     "output_type": "error",
     "traceback": [
      "\u001b[0;31m---------------------------------------------------------------------------\u001b[0m",
      "\u001b[0;31mNotFittedError\u001b[0m                            Traceback (most recent call last)",
      "\u001b[0;32m<ipython-input-950-0be131bdeff2>\u001b[0m in \u001b[0;36m<module>\u001b[0;34m\u001b[0m\n\u001b[1;32m      3\u001b[0m \u001b[0;31m# print(scaler.mean_)\u001b[0m\u001b[0;34m\u001b[0m\u001b[0;34m\u001b[0m\u001b[0;34m\u001b[0m\u001b[0m\n\u001b[1;32m      4\u001b[0m \u001b[0;31m# prediction_df = pd.DataFrame(prediction.detach().numpy())\u001b[0m\u001b[0;34m\u001b[0m\u001b[0;34m\u001b[0m\u001b[0;34m\u001b[0m\u001b[0m\n\u001b[0;32m----> 5\u001b[0;31m \u001b[0mreal_prediction_df\u001b[0m \u001b[0;34m=\u001b[0m \u001b[0mscaler\u001b[0m\u001b[0;34m.\u001b[0m\u001b[0minverse_transform\u001b[0m\u001b[0;34m(\u001b[0m\u001b[0mprediction_df\u001b[0m\u001b[0;34m)\u001b[0m\u001b[0;34m\u001b[0m\u001b[0;34m\u001b[0m\u001b[0m\n\u001b[0m\u001b[1;32m      6\u001b[0m \u001b[0;31m# print('Real error:',mean_squared_error(y_test.iloc[:,0], real_prediction_df.iloc[:,0]))\u001b[0m\u001b[0;34m\u001b[0m\u001b[0;34m\u001b[0m\u001b[0;34m\u001b[0m\u001b[0m\n\u001b[1;32m      7\u001b[0m \u001b[0;31m# print(mean_squared_error(y_test.iloc[:,1], real_prediction_df.iloc[:,1]))\u001b[0m\u001b[0;34m\u001b[0m\u001b[0;34m\u001b[0m\u001b[0;34m\u001b[0m\u001b[0m\n",
      "\u001b[0;32m/mnt/vlopatkin/anaconda3/lib/python3.7/site-packages/sklearn/preprocessing/data.py\u001b[0m in \u001b[0;36minverse_transform\u001b[0;34m(self, X, copy)\u001b[0m\n\u001b[1;32m    781\u001b[0m             \u001b[0mTransformed\u001b[0m \u001b[0marray\u001b[0m\u001b[0;34m.\u001b[0m\u001b[0;34m\u001b[0m\u001b[0;34m\u001b[0m\u001b[0m\n\u001b[1;32m    782\u001b[0m         \"\"\"\n\u001b[0;32m--> 783\u001b[0;31m         \u001b[0mcheck_is_fitted\u001b[0m\u001b[0;34m(\u001b[0m\u001b[0mself\u001b[0m\u001b[0;34m,\u001b[0m \u001b[0;34m'scale_'\u001b[0m\u001b[0;34m)\u001b[0m\u001b[0;34m\u001b[0m\u001b[0;34m\u001b[0m\u001b[0m\n\u001b[0m\u001b[1;32m    784\u001b[0m \u001b[0;34m\u001b[0m\u001b[0m\n\u001b[1;32m    785\u001b[0m         \u001b[0mcopy\u001b[0m \u001b[0;34m=\u001b[0m \u001b[0mcopy\u001b[0m \u001b[0;32mif\u001b[0m \u001b[0mcopy\u001b[0m \u001b[0;32mis\u001b[0m \u001b[0;32mnot\u001b[0m \u001b[0;32mNone\u001b[0m \u001b[0;32melse\u001b[0m \u001b[0mself\u001b[0m\u001b[0;34m.\u001b[0m\u001b[0mcopy\u001b[0m\u001b[0;34m\u001b[0m\u001b[0;34m\u001b[0m\u001b[0m\n",
      "\u001b[0;32m/mnt/vlopatkin/anaconda3/lib/python3.7/site-packages/sklearn/utils/validation.py\u001b[0m in \u001b[0;36mcheck_is_fitted\u001b[0;34m(estimator, attributes, msg, all_or_any)\u001b[0m\n\u001b[1;32m    949\u001b[0m \u001b[0;34m\u001b[0m\u001b[0m\n\u001b[1;32m    950\u001b[0m     \u001b[0;32mif\u001b[0m \u001b[0;32mnot\u001b[0m \u001b[0mall_or_any\u001b[0m\u001b[0;34m(\u001b[0m\u001b[0;34m[\u001b[0m\u001b[0mhasattr\u001b[0m\u001b[0;34m(\u001b[0m\u001b[0mestimator\u001b[0m\u001b[0;34m,\u001b[0m \u001b[0mattr\u001b[0m\u001b[0;34m)\u001b[0m \u001b[0;32mfor\u001b[0m \u001b[0mattr\u001b[0m \u001b[0;32min\u001b[0m \u001b[0mattributes\u001b[0m\u001b[0;34m]\u001b[0m\u001b[0;34m)\u001b[0m\u001b[0;34m:\u001b[0m\u001b[0;34m\u001b[0m\u001b[0;34m\u001b[0m\u001b[0m\n\u001b[0;32m--> 951\u001b[0;31m         \u001b[0;32mraise\u001b[0m \u001b[0mNotFittedError\u001b[0m\u001b[0;34m(\u001b[0m\u001b[0mmsg\u001b[0m \u001b[0;34m%\u001b[0m \u001b[0;34m{\u001b[0m\u001b[0;34m'name'\u001b[0m\u001b[0;34m:\u001b[0m \u001b[0mtype\u001b[0m\u001b[0;34m(\u001b[0m\u001b[0mestimator\u001b[0m\u001b[0;34m)\u001b[0m\u001b[0;34m.\u001b[0m\u001b[0m__name__\u001b[0m\u001b[0;34m}\u001b[0m\u001b[0;34m)\u001b[0m\u001b[0;34m\u001b[0m\u001b[0;34m\u001b[0m\u001b[0m\n\u001b[0m\u001b[1;32m    952\u001b[0m \u001b[0;34m\u001b[0m\u001b[0m\n\u001b[1;32m    953\u001b[0m \u001b[0;34m\u001b[0m\u001b[0m\n",
      "\u001b[0;31mNotFittedError\u001b[0m: This StandardScaler instance is not fitted yet. Call 'fit' with appropriate arguments before using this method."
     ]
    }
   ],
   "source": [
    "prediction = model(X_test_tensor)\n",
    "print('Loss:',compute_loss(y_test_tensor, prediction).item())\n",
    "print('R2:',r2_score(y_test_tensor.detach().numpy(), prediction_df.values))\n",
    "# print(scaler.mean_)\n",
    "prediction_df = pd.DataFrame(prediction.detach().numpy())"
   ]
  },
  {
   "cell_type": "code",
   "execution_count": 924,
   "metadata": {},
   "outputs": [
    {
     "name": "stdout",
     "output_type": "stream",
     "text": [
      "E: 0.045267483150530585\n"
     ]
    }
   ],
   "source": [
    "print('E:',r2_score(y_test, real_prediction_df))"
   ]
  },
  {
   "cell_type": "code",
   "execution_count": 1358,
   "metadata": {},
   "outputs": [],
   "source": [
    "def test_sigmas(model):\n",
    "    preds = np.maximum(model(X_test_tensor).detach().numpy(), 0)\n",
    "    \n",
    "    true_energy = pd.DataFrame({'E':y_test_set})\n",
    "    true_energy['level'] = true_energy['E'].apply(lambda x: round(x))\n",
    "    true_energy['pred'] = pd.DataFrame(preds)\n",
    "    CONST = 1.022\n",
    "    sigmas = {}\n",
    "    MSEs = {}\n",
    "    for energy in range(1,11):\n",
    "        sub_df = true_energy[true_energy['level'] == energy]\n",
    "        sigmas[energy] = np.std(abs(sub_df['E'] - sub_df['pred'])) / (energy + CONST)\n",
    "        MSEs[energy] = mean_squared_error(sub_df['E'],sub_df['pred'])\n",
    "        \n",
    "    a = 2.8\n",
    "    b=0.59\n",
    "    c=0\n",
    "\n",
    "    # Plot sigmas\n",
    "    Evis = np.array([en + 1.022  for en in range(1,11)])\n",
    "    Perc_sigmas = [sigmas[en] for en in range(1,11)]\n",
    "    perc_3_sqrt_E = [0.03 / np.sqrt(en) for en in Evis]\n",
    "    fig = plt.figure(figsize=(10,10))\n",
    "    plt.plot(Evis, Perc_sigmas, 'ro--', label='STD')\n",
    "    plt.plot(Evis, perc_3_sqrt_E, 'bo--', label=r'$\\frac{3\\%}{\\sqrt{E}}$')\n",
    "    # plt.scatter(Evis, 0.01*np.sqrt((a/np.sqrt(Evis))**2 + b**2 + (c/Evis)**2), label=r'$abc$')\n",
    "    plt.ylabel(\"std %\")\n",
    "    plt.xlabel(\"E level\")\n",
    "    plt.legend(fontsize=15)"
   ]
  },
  {
   "cell_type": "code",
   "execution_count": 1344,
   "metadata": {},
   "outputs": [],
   "source": [
    "preds = np.maximum(model_E.predict(X_test), 0)"
   ]
  },
  {
   "cell_type": "code",
   "execution_count": 1228,
   "metadata": {},
   "outputs": [],
   "source": [
    "preds = np.maximum(E_model_3(X_test_tensor).detach().numpy(), 0)"
   ]
  },
  {
   "cell_type": "code",
   "execution_count": 1345,
   "metadata": {},
   "outputs": [],
   "source": [
    "true_energy = pd.DataFrame({'E':y_test_set})\n",
    "true_energy['level'] = true_energy['E'].apply(lambda x: round(x))\n",
    "true_energy['pred'] = pd.DataFrame(preds)\n",
    "# true_energy['diff'] = true_energy['E'] - true_energy['pred']"
   ]
  },
  {
   "cell_type": "code",
   "execution_count": 1346,
   "metadata": {},
   "outputs": [
    {
     "data": {
      "text/html": [
       "<div>\n",
       "<style scoped>\n",
       "    .dataframe tbody tr th:only-of-type {\n",
       "        vertical-align: middle;\n",
       "    }\n",
       "\n",
       "    .dataframe tbody tr th {\n",
       "        vertical-align: top;\n",
       "    }\n",
       "\n",
       "    .dataframe thead th {\n",
       "        text-align: right;\n",
       "    }\n",
       "</style>\n",
       "<table border=\"1\" class=\"dataframe\">\n",
       "  <thead>\n",
       "    <tr style=\"text-align: right;\">\n",
       "      <th></th>\n",
       "      <th>E</th>\n",
       "      <th>level</th>\n",
       "      <th>pred</th>\n",
       "    </tr>\n",
       "  </thead>\n",
       "  <tbody>\n",
       "    <tr>\n",
       "      <th>0</th>\n",
       "      <td>3.396295</td>\n",
       "      <td>3</td>\n",
       "      <td>6.547821</td>\n",
       "    </tr>\n",
       "    <tr>\n",
       "      <th>1</th>\n",
       "      <td>2.853090</td>\n",
       "      <td>3</td>\n",
       "      <td>4.832020</td>\n",
       "    </tr>\n",
       "    <tr>\n",
       "      <th>2</th>\n",
       "      <td>8.985971</td>\n",
       "      <td>9</td>\n",
       "      <td>9.674952</td>\n",
       "    </tr>\n",
       "    <tr>\n",
       "      <th>3</th>\n",
       "      <td>3.417979</td>\n",
       "      <td>3</td>\n",
       "      <td>5.024974</td>\n",
       "    </tr>\n",
       "    <tr>\n",
       "      <th>4</th>\n",
       "      <td>2.631805</td>\n",
       "      <td>3</td>\n",
       "      <td>4.774181</td>\n",
       "    </tr>\n",
       "  </tbody>\n",
       "</table>\n",
       "</div>"
      ],
      "text/plain": [
       "          E  level      pred\n",
       "0  3.396295      3  6.547821\n",
       "1  2.853090      3  4.832020\n",
       "2  8.985971      9  9.674952\n",
       "3  3.417979      3  5.024974\n",
       "4  2.631805      3  4.774181"
      ]
     },
     "execution_count": 1346,
     "metadata": {},
     "output_type": "execute_result"
    }
   ],
   "source": [
    "true_energy.head()"
   ]
  },
  {
   "cell_type": "code",
   "execution_count": 1347,
   "metadata": {},
   "outputs": [],
   "source": [
    "CONST = 1.022\n",
    "sigmas = {}\n",
    "MSEs = {}\n",
    "for energy in range(1,11):\n",
    "    sub_df = true_energy[true_energy['level'] == energy]\n",
    "    sigmas[energy] = np.std(abs(sub_df['E'] - sub_df['pred'])) / (energy + CONST)\n",
    "    MSEs[energy] = mean_squared_error(sub_df['E'],sub_df['pred'])"
   ]
  },
  {
   "cell_type": "code",
   "execution_count": 1348,
   "metadata": {},
   "outputs": [
    {
     "data": {
      "text/plain": [
       "({1: 0.24114492660307998,\n",
       "  2: 0.12743008788601556,\n",
       "  3: 0.08698953281625167,\n",
       "  4: 0.060582212628304176,\n",
       "  5: 0.047955204153274596,\n",
       "  6: 0.04471098507495344,\n",
       "  7: 0.043543194465201954,\n",
       "  8: 0.03325584326387764,\n",
       "  9: 0.04117937020359666,\n",
       "  10: 0.04543530685623697},\n",
       " {1: 12.895203526932395,\n",
       "  2: 7.248307834892331,\n",
       "  3: 4.315946508044156,\n",
       "  4: 2.494016291214846,\n",
       "  5: 1.4154635139631555,\n",
       "  6: 0.6591770523169531,\n",
       "  7: 0.34425441770852144,\n",
       "  8: 0.2236270953905018,\n",
       "  9: 0.37809152425016546,\n",
       "  10: 0.5997915187791109})"
      ]
     },
     "execution_count": 1348,
     "metadata": {},
     "output_type": "execute_result"
    }
   ],
   "source": [
    "sigmas, MSEs"
   ]
  },
  {
   "cell_type": "code",
   "execution_count": 1366,
   "metadata": {},
   "outputs": [
    {
     "data": {
      "text/plain": [
       "Text(0.5, 1.0, 'Catboost')"
      ]
     },
     "execution_count": 1366,
     "metadata": {},
     "output_type": "execute_result"
    },
    {
     "data": {
      "image/png": "[encoded data removed]",
      "text/plain": [
       "<Figure size 720x720 with 1 Axes>"
      ]
     },
     "metadata": {
      "needs_background": "light"
     },
     "output_type": "display_data"
    }
   ],
   "source": [
    "a = 2.8\n",
    "b=0.59\n",
    "c=0\n",
    "\n",
    "# Plot sigmas\n",
    "Evis = np.array([en + 1.022  for en in range(1,11)])\n",
    "Perc_sigmas = [sigmas[en] for en in range(1,11)]\n",
    "perc_3_sqrt_E = [0.03 / np.sqrt(en) for en in Evis]\n",
    "fig = plt.figure(figsize=(10,10))\n",
    "# plt.scatter(Evis, Perc_sigmas, label='STD')\n",
    "plt.plot(Evis, Perc_sigmas, 'ro--', label='STD')\n",
    "plt.plot(Evis, perc_3_sqrt_E, 'bo--', label=r'$\\frac{3\\%}{\\sqrt{E}}$')\n",
    "# plt.scatter(Evis, 0.01*np.sqrt((a/np.sqrt(Evis))**2 + b**2 + (c/Evis)**2), label=r'$abc$')\n",
    "plt.ylabel(\"std \\%\")\n",
    "plt.xlabel(\"E level\")\n",
    "plt.legend(fontsize=15)\n",
    "plt.title('Catboost')"
   ]
  },
  {
   "cell_type": "code",
   "execution_count": 883,
   "metadata": {},
   "outputs": [
    {
     "data": {
      "text/plain": [
       "[<matplotlib.lines.Line2D at 0x7f90f302aba8>]"
      ]
     },
     "execution_count": 883,
     "metadata": {},
     "output_type": "execute_result"
    },
    {
     "data": {
      "image/png": "[encoded data removed]",
      "text/plain": [
       "<Figure size 504x360 with 1 Axes>"
      ]
     },
     "metadata": {
      "needs_background": "light"
     },
     "output_type": "display_data"
    }
   ],
   "source": [
    "ax = plt.figure(figsize=(7,5))\n",
    "plt.plot(sigma)\n",
    "plt.plot(treshold)"
   ]
  },
  {
   "cell_type": "code",
   "execution_count": 793,
   "metadata": {},
   "outputs": [],
   "source": [
    "torch.save(model, './juno/model_yum')\n",
    "\n",
    "the_model = torch.load('./juno/model_yum')"
   ]
  },
  {
   "cell_type": "code",
   "execution_count": 949,
   "metadata": {},
   "outputs": [],
   "source": [
    "the_model = torch.load('./juno/model_yum')"
   ]
  },
  {
   "cell_type": "code",
   "execution_count": 741,
   "metadata": {},
   "outputs": [
    {
     "data": {
      "text/html": [
       "<div>\n",
       "<style scoped>\n",
       "    .dataframe tbody tr th:only-of-type {\n",
       "        vertical-align: middle;\n",
       "    }\n",
       "\n",
       "    .dataframe tbody tr th {\n",
       "        vertical-align: top;\n",
       "    }\n",
       "\n",
       "    .dataframe thead th {\n",
       "        text-align: right;\n",
       "    }\n",
       "</style>\n",
       "<table border=\"1\" class=\"dataframe\">\n",
       "  <thead>\n",
       "    <tr style=\"text-align: right;\">\n",
       "      <th></th>\n",
       "      <th>0</th>\n",
       "    </tr>\n",
       "  </thead>\n",
       "  <tbody>\n",
       "    <tr>\n",
       "      <th>0</th>\n",
       "      <td>10.146852</td>\n",
       "    </tr>\n",
       "    <tr>\n",
       "      <th>1</th>\n",
       "      <td>10.229349</td>\n",
       "    </tr>\n",
       "    <tr>\n",
       "      <th>2</th>\n",
       "      <td>7.544905</td>\n",
       "    </tr>\n",
       "    <tr>\n",
       "      <th>3</th>\n",
       "      <td>5.345156</td>\n",
       "    </tr>\n",
       "    <tr>\n",
       "      <th>4</th>\n",
       "      <td>6.865389</td>\n",
       "    </tr>\n",
       "  </tbody>\n",
       "</table>\n",
       "</div>"
      ],
      "text/plain": [
       "           0\n",
       "0  10.146852\n",
       "1  10.229349\n",
       "2   7.544905\n",
       "3   5.345156\n",
       "4   6.865389"
      ]
     },
     "execution_count": 741,
     "metadata": {},
     "output_type": "execute_result"
    }
   ],
   "source": [
    "prediction_df.head()"
   ]
  },
  {
   "cell_type": "code",
   "execution_count": 686,
   "metadata": {},
   "outputs": [
    {
     "data": {
      "text/html": [
       "<div>\n",
       "<style scoped>\n",
       "    .dataframe tbody tr th:only-of-type {\n",
       "        vertical-align: middle;\n",
       "    }\n",
       "\n",
       "    .dataframe tbody tr th {\n",
       "        vertical-align: top;\n",
       "    }\n",
       "\n",
       "    .dataframe thead th {\n",
       "        text-align: right;\n",
       "    }\n",
       "</style>\n",
       "<table border=\"1\" class=\"dataframe\">\n",
       "  <thead>\n",
       "    <tr style=\"text-align: right;\">\n",
       "      <th></th>\n",
       "      <th>0</th>\n",
       "      <th>1</th>\n",
       "    </tr>\n",
       "  </thead>\n",
       "  <tbody>\n",
       "    <tr>\n",
       "      <th>0</th>\n",
       "      <td>9.470795</td>\n",
       "      <td>-2.223401e+06</td>\n",
       "    </tr>\n",
       "    <tr>\n",
       "      <th>1</th>\n",
       "      <td>9.299592</td>\n",
       "      <td>-2.171172e+06</td>\n",
       "    </tr>\n",
       "    <tr>\n",
       "      <th>2</th>\n",
       "      <td>8.166956</td>\n",
       "      <td>-1.575388e+06</td>\n",
       "    </tr>\n",
       "    <tr>\n",
       "      <th>3</th>\n",
       "      <td>7.254718</td>\n",
       "      <td>-1.012473e+06</td>\n",
       "    </tr>\n",
       "    <tr>\n",
       "      <th>4</th>\n",
       "      <td>8.052483</td>\n",
       "      <td>-1.199993e+06</td>\n",
       "    </tr>\n",
       "  </tbody>\n",
       "</table>\n",
       "</div>"
      ],
      "text/plain": [
       "          0             1\n",
       "0  9.470795 -2.223401e+06\n",
       "1  9.299592 -2.171172e+06\n",
       "2  8.166956 -1.575388e+06\n",
       "3  7.254718 -1.012473e+06\n",
       "4  8.052483 -1.199993e+06"
      ]
     },
     "execution_count": 686,
     "metadata": {},
     "output_type": "execute_result"
    }
   ],
   "source": [
    "real_prediction_df.head()"
   ]
  },
  {
   "cell_type": "code",
   "execution_count": 742,
   "metadata": {},
   "outputs": [
    {
     "data": {
      "text/html": [
       "<div>\n",
       "<style scoped>\n",
       "    .dataframe tbody tr th:only-of-type {\n",
       "        vertical-align: middle;\n",
       "    }\n",
       "\n",
       "    .dataframe tbody tr th {\n",
       "        vertical-align: top;\n",
       "    }\n",
       "\n",
       "    .dataframe thead th {\n",
       "        text-align: right;\n",
       "    }\n",
       "</style>\n",
       "<table border=\"1\" class=\"dataframe\">\n",
       "  <thead>\n",
       "    <tr style=\"text-align: right;\">\n",
       "      <th></th>\n",
       "      <th>E</th>\n",
       "    </tr>\n",
       "  </thead>\n",
       "  <tbody>\n",
       "    <tr>\n",
       "      <th>2990</th>\n",
       "      <td>8.994131</td>\n",
       "    </tr>\n",
       "    <tr>\n",
       "      <th>13607</th>\n",
       "      <td>9.414703</td>\n",
       "    </tr>\n",
       "    <tr>\n",
       "      <th>10421</th>\n",
       "      <td>7.589386</td>\n",
       "    </tr>\n",
       "    <tr>\n",
       "      <th>6238</th>\n",
       "      <td>5.784189</td>\n",
       "    </tr>\n",
       "    <tr>\n",
       "      <th>6790</th>\n",
       "      <td>5.611799</td>\n",
       "    </tr>\n",
       "  </tbody>\n",
       "</table>\n",
       "</div>"
      ],
      "text/plain": [
       "              E\n",
       "2990   8.994131\n",
       "13607  9.414703\n",
       "10421  7.589386\n",
       "6238   5.784189\n",
       "6790   5.611799"
      ]
     },
     "execution_count": 742,
     "metadata": {},
     "output_type": "execute_result"
    }
   ],
   "source": [
    "y_test.head()"
   ]
  },
  {
   "cell_type": "code",
   "execution_count": 843,
   "metadata": {},
   "outputs": [
    {
     "data": {
      "text/plain": [
       "((3200, 1), torch.Size([3200, 1]))"
      ]
     },
     "execution_count": 843,
     "metadata": {},
     "output_type": "execute_result"
    }
   ],
   "source": [
    "y_test.shape, prediction.shape"
   ]
  },
  {
   "cell_type": "code",
   "execution_count": 689,
   "metadata": {},
   "outputs": [
    {
     "data": {
      "text/plain": [
       "(11.10417277378193, 1740203689822.193)"
      ]
     },
     "execution_count": 689,
     "metadata": {},
     "output_type": "execute_result"
    }
   ],
   "source": []
  },
  {
   "cell_type": "code",
   "execution_count": null,
   "metadata": {},
   "outputs": [],
   "source": []
  }
 ],
 "metadata": {
  "anaconda-cloud": {},
  "kernelspec": {
   "display_name": "Python 3",
   "language": "python",
   "name": "python3"
  },
  "language_info": {
   "codemirror_mode": {
    "name": "ipython",
    "version": 3
   },
   "file_extension": ".py",
   "mimetype": "text/x-python",
   "name": "python",
   "nbconvert_exporter": "python",
   "pygments_lexer": "ipython3",
   "version": "3.7.1"
  }
 },
 "nbformat": 4,
 "nbformat_minor": 1
}
